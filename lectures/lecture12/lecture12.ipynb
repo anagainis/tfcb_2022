{
 "cells": [
  {
   "cell_type": "markdown",
   "metadata": {},
   "source": [
    "# Lecture 12: Working with tabular data using `R` and `tidyverse`\n",
    "\n",
    "[Rasi Subramaniam](http://rasilab.org/)\n",
    "\n",
    "To interactively work with the code below, open [lecture12.ipynb](./lecture12.ipynb) in VSCode. Make sure to select the `kernel` for `R` so that you can execute `R` code. You should have already set this up following the software installation instructions [here](../../software/README.md)."
   ]
  },
  {
   "cell_type": "markdown",
   "metadata": {},
   "source": [
    "`R` is the second programming language after `Python` that we will learn in this course. We will use `R` over the next 5 lectures.\n",
    "\n",
    "`R` is particularly well suited for reading, manipulating, and visualizing data in tabular and biological sequence formats. \n",
    "Many statistical tests are also available out of the box in `R`."
   ]
  },
  {
   "cell_type": "markdown",
   "metadata": {},
   "source": [
    "While \"base\" `R` is used widely, I almost exclusively use `R` for its two excellent package collections:\n",
    "\n",
    "1. [Tidyverse](https://www.tidyverse.org/) - suited for tabular data\n",
    "2. [Bioconductor](https://www.bioconductor.org/) - suited for biology-aware analyses"
   ]
  },
  {
   "cell_type": "markdown",
   "metadata": {},
   "source": [
    "Today we will learn a few basic functions from `tidyverse` for working with tabular data.\n",
    "\n",
    "Unlike `pandas` which is a single package with lot of functionality, `tidyverse` is a collection of packages that are focused on specific tasks.\n",
    "\n",
    "1. [ggplot2](https://ggplot2.tidyverse.org/) - for plotting data\n",
    "2. [dplyr](https://dplyr.tidyverse.org/) - for filtering, aggregating, and transforming data\n",
    "3. [readr](https://readr.tidyverse.org/) - for reading and writing data\n",
    "4. [tidyr](https://tidyr.tidyverse.org/) - for cleaning and transforming data\n",
    "5. [stringr](https://stringr.tidyverse.org/) - for manipulating strings\n",
    "6. [purrr](https://purrr.tidyverse.org/) - for manipulating lists of R objects\n",
    "7. [forcats](https://forcats.tidyverse.org/) - for manipulating categorical data"
   ]
  },
  {
   "cell_type": "markdown",
   "metadata": {},
   "source": [
    "You can load all the above packages in one go:"
   ]
  },
  {
   "cell_type": "code",
   "execution_count": 1,
   "metadata": {
    "vscode": {
     "languageId": "r"
    }
   },
   "outputs": [
    {
     "name": "stderr",
     "output_type": "stream",
     "text": [
      "── \u001b[1mAttaching packages\u001b[22m ─────────────────────────────────────── tidyverse 1.3.1 ──\n",
      "\n",
      "\u001b[32m✔\u001b[39m \u001b[34mggplot2\u001b[39m 3.3.6     \u001b[32m✔\u001b[39m \u001b[34mpurrr  \u001b[39m 0.3.4\n",
      "\u001b[32m✔\u001b[39m \u001b[34mtibble \u001b[39m 3.1.7     \u001b[32m✔\u001b[39m \u001b[34mdplyr  \u001b[39m 1.0.9\n",
      "\u001b[32m✔\u001b[39m \u001b[34mtidyr  \u001b[39m 1.2.0     \u001b[32m✔\u001b[39m \u001b[34mstringr\u001b[39m 1.4.0\n",
      "\u001b[32m✔\u001b[39m \u001b[34mreadr  \u001b[39m 2.1.2     \u001b[32m✔\u001b[39m \u001b[34mforcats\u001b[39m 0.5.1\n",
      "\n",
      "── \u001b[1mConflicts\u001b[22m ────────────────────────────────────────── tidyverse_conflicts() ──\n",
      "\u001b[31m✖\u001b[39m \u001b[34mdplyr\u001b[39m::\u001b[32mfilter()\u001b[39m masks \u001b[34mstats\u001b[39m::filter()\n",
      "\u001b[31m✖\u001b[39m \u001b[34mdplyr\u001b[39m::\u001b[32mlag()\u001b[39m    masks \u001b[34mstats\u001b[39m::lag()\n",
      "\n"
     ]
    }
   ],
   "source": [
    "library(tidyverse)"
   ]
  },
  {
   "cell_type": "markdown",
   "metadata": {},
   "source": [
    "## Reading data\n",
    "\n",
    "Various options for reading and writing data are in package [`readr`](https://readr.tidyverse.org/)."
   ]
  },
  {
   "cell_type": "code",
<<<<<<< HEAD
   "execution_count": 2,
=======
   "execution_count": null,
>>>>>>> 85e23414886eea50b2f28096c32b58e70a4d0893
   "metadata": {
    "vscode": {
     "languageId": "r"
    }
   },
<<<<<<< HEAD
   "outputs": [
    {
     "name": "stderr",
     "output_type": "stream",
     "text": [
      "\u001b[1mRows: \u001b[22m\u001b[34m16\u001b[39m \u001b[1mColumns: \u001b[22m\u001b[34m7\u001b[39m\n",
      "\u001b[36m──\u001b[39m \u001b[1mColumn specification\u001b[22m \u001b[36m────────────────────────────────────────────────────────\u001b[39m\n",
      "\u001b[1mDelimiter:\u001b[22m \"\\t\"\n",
      "\u001b[31mchr\u001b[39m (3): strain, insert_sequence, kozak_region\n",
      "\u001b[32mdbl\u001b[39m (4): mean_yfp, mean_rfp, mean_ratio, se_ratio\n",
      "\n",
      "\u001b[36mℹ\u001b[39m Use `spec()` to retrieve the full column specification for this data.\n",
      "\u001b[36mℹ\u001b[39m Specify the column types or set `show_col_types = FALSE` to quiet this message.\n"
     ]
    },
    {
     "data": {
      "text/html": [
       "<table class=\"dataframe\">\n",
       "<caption>A spec_tbl_df: 16 × 7</caption>\n",
       "<thead>\n",
       "\t<tr><th scope=col>strain</th><th scope=col>mean_yfp</th><th scope=col>mean_rfp</th><th scope=col>mean_ratio</th><th scope=col>se_ratio</th><th scope=col>insert_sequence</th><th scope=col>kozak_region</th></tr>\n",
       "\t<tr><th scope=col>&lt;chr&gt;</th><th scope=col>&lt;dbl&gt;</th><th scope=col>&lt;dbl&gt;</th><th scope=col>&lt;dbl&gt;</th><th scope=col>&lt;dbl&gt;</th><th scope=col>&lt;chr&gt;</th><th scope=col>&lt;chr&gt;</th></tr>\n",
       "</thead>\n",
       "<tbody>\n",
       "\t<tr><td>schp688</td><td>1748</td><td>20754</td><td>0.755</td><td>0.066</td><td>10×AGA</td><td>A</td></tr>\n",
       "\t<tr><td>schp684</td><td>3294</td><td>20585</td><td>1.437</td><td>0.021</td><td>10×AGA</td><td>B</td></tr>\n",
       "\t<tr><td>schp690</td><td>3535</td><td>20593</td><td>1.541</td><td>0.018</td><td>10×AGA</td><td>C</td></tr>\n",
       "\t<tr><td>schp687</td><td>4658</td><td>20860</td><td>2.004</td><td>0.021</td><td>10×AGA</td><td>D</td></tr>\n",
       "\t<tr><td>schp686</td><td>5000</td><td>21171</td><td>2.121</td><td>0.023</td><td>10×AGA</td><td>E</td></tr>\n",
       "\t<tr><td>schp685</td><td>7379</td><td>22956</td><td>2.893</td><td>0.050</td><td>10×AGA</td><td>F</td></tr>\n",
       "\t<tr><td>schp683</td><td>9365</td><td>23866</td><td>3.522</td><td>0.110</td><td>10×AGA</td><td>G</td></tr>\n",
       "\t<tr><td>schp689</td><td>8693</td><td>22649</td><td>3.424</td><td>0.125</td><td>10×AGA</td><td>H</td></tr>\n",
       "\t<tr><td>schp679</td><td>2528</td><td>19906</td><td>1.149</td><td>0.056</td><td>10×AAG</td><td>A</td></tr>\n",
       "\t<tr><td>schp675</td><td>3687</td><td>20438</td><td>1.621</td><td>0.036</td><td>10×AAG</td><td>B</td></tr>\n",
       "\t<tr><td>schp681</td><td>3705</td><td>20227</td><td>1.645</td><td>0.021</td><td>10×AAG</td><td>C</td></tr>\n",
       "\t<tr><td>schp678</td><td>4378</td><td>20630</td><td>1.906</td><td>0.010</td><td>10×AAG</td><td>D</td></tr>\n",
       "\t<tr><td>schp677</td><td>3967</td><td>20604</td><td>1.728</td><td>0.030</td><td>10×AAG</td><td>E</td></tr>\n",
       "\t<tr><td>schp676</td><td>2657</td><td>20223</td><td>1.177</td><td>0.048</td><td>10×AAG</td><td>F</td></tr>\n",
       "\t<tr><td>schp674</td><td>1270</td><td>20316</td><td>0.561</td><td>0.004</td><td>10×AAG</td><td>G</td></tr>\n",
       "\t<tr><td>schp680</td><td>1117</td><td>19377</td><td>0.519</td><td>0.010</td><td>10×AAG</td><td>H</td></tr>\n",
       "</tbody>\n",
       "</table>\n"
      ],
      "text/latex": [
       "A spec\\_tbl\\_df: 16 × 7\n",
       "\\begin{tabular}{lllllll}\n",
       " strain & mean\\_yfp & mean\\_rfp & mean\\_ratio & se\\_ratio & insert\\_sequence & kozak\\_region\\\\\n",
       " <chr> & <dbl> & <dbl> & <dbl> & <dbl> & <chr> & <chr>\\\\\n",
       "\\hline\n",
       "\t schp688 & 1748 & 20754 & 0.755 & 0.066 & 10×AGA & A\\\\\n",
       "\t schp684 & 3294 & 20585 & 1.437 & 0.021 & 10×AGA & B\\\\\n",
       "\t schp690 & 3535 & 20593 & 1.541 & 0.018 & 10×AGA & C\\\\\n",
       "\t schp687 & 4658 & 20860 & 2.004 & 0.021 & 10×AGA & D\\\\\n",
       "\t schp686 & 5000 & 21171 & 2.121 & 0.023 & 10×AGA & E\\\\\n",
       "\t schp685 & 7379 & 22956 & 2.893 & 0.050 & 10×AGA & F\\\\\n",
       "\t schp683 & 9365 & 23866 & 3.522 & 0.110 & 10×AGA & G\\\\\n",
       "\t schp689 & 8693 & 22649 & 3.424 & 0.125 & 10×AGA & H\\\\\n",
       "\t schp679 & 2528 & 19906 & 1.149 & 0.056 & 10×AAG & A\\\\\n",
       "\t schp675 & 3687 & 20438 & 1.621 & 0.036 & 10×AAG & B\\\\\n",
       "\t schp681 & 3705 & 20227 & 1.645 & 0.021 & 10×AAG & C\\\\\n",
       "\t schp678 & 4378 & 20630 & 1.906 & 0.010 & 10×AAG & D\\\\\n",
       "\t schp677 & 3967 & 20604 & 1.728 & 0.030 & 10×AAG & E\\\\\n",
       "\t schp676 & 2657 & 20223 & 1.177 & 0.048 & 10×AAG & F\\\\\n",
       "\t schp674 & 1270 & 20316 & 0.561 & 0.004 & 10×AAG & G\\\\\n",
       "\t schp680 & 1117 & 19377 & 0.519 & 0.010 & 10×AAG & H\\\\\n",
       "\\end{tabular}\n"
      ],
      "text/markdown": [
       "\n",
       "A spec_tbl_df: 16 × 7\n",
       "\n",
       "| strain &lt;chr&gt; | mean_yfp &lt;dbl&gt; | mean_rfp &lt;dbl&gt; | mean_ratio &lt;dbl&gt; | se_ratio &lt;dbl&gt; | insert_sequence &lt;chr&gt; | kozak_region &lt;chr&gt; |\n",
       "|---|---|---|---|---|---|---|\n",
       "| schp688 | 1748 | 20754 | 0.755 | 0.066 | 10×AGA | A |\n",
       "| schp684 | 3294 | 20585 | 1.437 | 0.021 | 10×AGA | B |\n",
       "| schp690 | 3535 | 20593 | 1.541 | 0.018 | 10×AGA | C |\n",
       "| schp687 | 4658 | 20860 | 2.004 | 0.021 | 10×AGA | D |\n",
       "| schp686 | 5000 | 21171 | 2.121 | 0.023 | 10×AGA | E |\n",
       "| schp685 | 7379 | 22956 | 2.893 | 0.050 | 10×AGA | F |\n",
       "| schp683 | 9365 | 23866 | 3.522 | 0.110 | 10×AGA | G |\n",
       "| schp689 | 8693 | 22649 | 3.424 | 0.125 | 10×AGA | H |\n",
       "| schp679 | 2528 | 19906 | 1.149 | 0.056 | 10×AAG | A |\n",
       "| schp675 | 3687 | 20438 | 1.621 | 0.036 | 10×AAG | B |\n",
       "| schp681 | 3705 | 20227 | 1.645 | 0.021 | 10×AAG | C |\n",
       "| schp678 | 4378 | 20630 | 1.906 | 0.010 | 10×AAG | D |\n",
       "| schp677 | 3967 | 20604 | 1.728 | 0.030 | 10×AAG | E |\n",
       "| schp676 | 2657 | 20223 | 1.177 | 0.048 | 10×AAG | F |\n",
       "| schp674 | 1270 | 20316 | 0.561 | 0.004 | 10×AAG | G |\n",
       "| schp680 | 1117 | 19377 | 0.519 | 0.010 | 10×AAG | H |\n",
       "\n"
      ],
      "text/plain": [
       "   strain  mean_yfp mean_rfp mean_ratio se_ratio insert_sequence kozak_region\n",
       "1  schp688 1748     20754    0.755      0.066    10×AGA          A           \n",
       "2  schp684 3294     20585    1.437      0.021    10×AGA          B           \n",
       "3  schp690 3535     20593    1.541      0.018    10×AGA          C           \n",
       "4  schp687 4658     20860    2.004      0.021    10×AGA          D           \n",
       "5  schp686 5000     21171    2.121      0.023    10×AGA          E           \n",
       "6  schp685 7379     22956    2.893      0.050    10×AGA          F           \n",
       "7  schp683 9365     23866    3.522      0.110    10×AGA          G           \n",
       "8  schp689 8693     22649    3.424      0.125    10×AGA          H           \n",
       "9  schp679 2528     19906    1.149      0.056    10×AAG          A           \n",
       "10 schp675 3687     20438    1.621      0.036    10×AAG          B           \n",
       "11 schp681 3705     20227    1.645      0.021    10×AAG          C           \n",
       "12 schp678 4378     20630    1.906      0.010    10×AAG          D           \n",
       "13 schp677 3967     20604    1.728      0.030    10×AAG          E           \n",
       "14 schp676 2657     20223    1.177      0.048    10×AAG          F           \n",
       "15 schp674 1270     20316    0.561      0.004    10×AAG          G           \n",
       "16 schp680 1117     19377    0.519      0.010    10×AAG          H           "
      ]
     },
     "metadata": {},
     "output_type": "display_data"
    }
   ],
=======
   "outputs": [],
>>>>>>> 85e23414886eea50b2f28096c32b58e70a4d0893
   "source": [
    "data <- read_tsv(\"data/example_dataset_1.tsv\")\n",
    "\n",
    "data"
   ]
  },
  {
   "cell_type": "markdown",
   "metadata": {},
   "source": [
    "The tabular data structure is called a `tibble` in `tidyverse`, and is a souped-up version of the [data.frame](https://en.wikipedia.org/wiki/Data_frame) R data structure with additional nice features.\n",
    "\n",
    "The ` <- ` assignment operator is equivalent to the ` = ` assignment operator and can be used interchangeably. However, using the ` <- ` operator is more conventional."
   ]
  },
  {
   "cell_type": "markdown",
   "metadata": {},
   "source": [
    "## Plotting data"
   ]
  },
  {
   "cell_type": "code",
<<<<<<< HEAD
   "execution_count": 3,
=======
   "execution_count": null,
>>>>>>> 85e23414886eea50b2f28096c32b58e70a4d0893
   "metadata": {
    "vscode": {
     "languageId": "r"
    }
   },
<<<<<<< HEAD
   "outputs": [
    {
     "data": {
      "image/png": "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",
      "text/plain": [
       "plot without title"
      ]
     },
     "metadata": {
      "image/png": {
       "height": 420,
       "width": 420
      }
     },
     "output_type": "display_data"
    }
   ],
=======
   "outputs": [],
>>>>>>> 85e23414886eea50b2f28096c32b58e70a4d0893
   "source": [
    "ggplot(data, aes(x = kozak_region, y = mean_ratio)) +\n",
    "  geom_point()\n"
   ]
  },
  {
   "cell_type": "markdown",
   "metadata": {},
   "source": [
    "**Anatomy of a `ggplot2` plot**\n",
    "\n",
    " - Begins with `ggplot` function with a `tibble` argument as the first argument.\n",
    " - `aes` specifies the variables to plot.\n",
    " - `geom` specifies the type of plot.\n",
    " - `+` adds additional `layers` to the plot.\n",
    "\n",
    "\n",
    "**Key differences with `Python`**\n",
    "  - No need to specify variables within quotes.\n",
    "  - Indentation convention is different."
   ]
  },
  {
   "cell_type": "markdown",
   "metadata": {},
   "source": [
    "## Change size of plot globally"
   ]
  },
  {
   "cell_type": "code",
<<<<<<< HEAD
   "execution_count": 4,
=======
   "execution_count": null,
>>>>>>> 85e23414886eea50b2f28096c32b58e70a4d0893
   "metadata": {
    "vscode": {
     "languageId": "r"
    }
   },
   "outputs": [],
   "source": [
    "options(repr.plot.width = 5, repr.plot.height = 3)"
   ]
  },
  {
   "cell_type": "markdown",
   "metadata": {},
   "source": [
    "## How do we show multiple experimental variables?\n"
   ]
  },
  {
   "cell_type": "markdown",
   "metadata": {},
   "source": [
    "Plotting a point graph with color"
   ]
  },
  {
   "cell_type": "code",
<<<<<<< HEAD
   "execution_count": 5,
=======
   "execution_count": null,
>>>>>>> 85e23414886eea50b2f28096c32b58e70a4d0893
   "metadata": {
    "vscode": {
     "languageId": "r"
    }
   },
<<<<<<< HEAD
   "outputs": [
    {
     "data": {
      "image/png": "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",
      "text/plain": [
       "plot without title"
      ]
     },
     "metadata": {
      "image/png": {
       "height": 180,
       "width": 300
      }
     },
     "output_type": "display_data"
    }
   ],
=======
   "outputs": [],
>>>>>>> 85e23414886eea50b2f28096c32b58e70a4d0893
   "source": [
    "ggplot(data, aes(x = kozak_region,\n",
    "                 y = mean_ratio,\n",
    "                 color = insert_sequence)) +\n",
    "  geom_point()"
   ]
  },
  {
   "cell_type": "markdown",
   "metadata": {},
   "source": [
    "Plotting a line graph"
   ]
  },
  {
   "cell_type": "code",
<<<<<<< HEAD
   "execution_count": 6,
=======
   "execution_count": null,
>>>>>>> 85e23414886eea50b2f28096c32b58e70a4d0893
   "metadata": {
    "vscode": {
     "languageId": "r"
    }
   },
<<<<<<< HEAD
   "outputs": [
    {
     "data": {
      "image/png": "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",
      "text/plain": [
       "plot without title"
      ]
     },
     "metadata": {
      "image/png": {
       "height": 180,
       "width": 300
      }
     },
     "output_type": "display_data"
    }
   ],
=======
   "outputs": [],
>>>>>>> 85e23414886eea50b2f28096c32b58e70a4d0893
   "source": [
    "ggplot(data, aes(x = kozak_region,\n",
    "                 y = mean_ratio,\n",
    "                 color = insert_sequence,\n",
    "                 group = insert_sequence)) +\n",
    "  geom_line()"
   ]
  },
  {
   "cell_type": "markdown",
   "metadata": {},
   "source": [
    "Plotting point and line graphs"
   ]
  },
  {
   "cell_type": "code",
<<<<<<< HEAD
   "execution_count": 7,
=======
   "execution_count": null,
>>>>>>> 85e23414886eea50b2f28096c32b58e70a4d0893
   "metadata": {
    "vscode": {
     "languageId": "r"
    }
   },
<<<<<<< HEAD
   "outputs": [
    {
     "data": {
      "image/png": "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",
      "text/plain": [
       "plot without title"
      ]
     },
     "metadata": {
      "image/png": {
       "height": 180,
       "width": 300
      }
     },
     "output_type": "display_data"
    }
   ],
=======
   "outputs": [],
>>>>>>> 85e23414886eea50b2f28096c32b58e70a4d0893
   "source": [
    "ggplot(data, aes(x = kozak_region,\n",
    "                 y = mean_ratio,\n",
    "                 color = insert_sequence,\n",
    "                 group = insert_sequence)) +\n",
    "  geom_line() +\n",
    "  geom_point()"
   ]
  },
  {
   "cell_type": "markdown",
   "metadata": {},
   "source": [
    "## ‘Faceting’ – Plotting in multiple panels"
   ]
  },
  {
   "cell_type": "code",
<<<<<<< HEAD
   "execution_count": 8,
=======
   "execution_count": null,
>>>>>>> 85e23414886eea50b2f28096c32b58e70a4d0893
   "metadata": {
    "vscode": {
     "languageId": "r"
    }
   },
<<<<<<< HEAD
   "outputs": [
    {
     "data": {
      "image/png": "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",
      "text/plain": [
       "plot without title"
      ]
     },
     "metadata": {
      "image/png": {
       "height": 180,
       "width": 360
      }
     },
     "output_type": "display_data"
    }
   ],
=======
   "outputs": [],
>>>>>>> 85e23414886eea50b2f28096c32b58e70a4d0893
   "source": [
    "options(repr.plot.width = 6, repr.plot.height = 3)\n",
    "\n",
    "ggplot(data, aes(x = kozak_region,\n",
    "                 y = mean_ratio,\n",
    "                 group = insert_sequence)) +\n",
    "  geom_line() +\n",
    "  geom_point() +\n",
    "  facet_grid(~ insert_sequence)"
   ]
  },
  {
   "cell_type": "markdown",
   "metadata": {},
   "source": [
    "# In-class `ggplot2` exercises\n",
    "\n",
    "(20 min)"
   ]
  },
  {
   "cell_type": "markdown",
   "metadata": {},
   "source": [
    "## 1. Make X, Y, legend labels into nice strings\n",
    "\n",
    "See https://ggplot2.tidyverse.org/reference/labs.html"
   ]
  },
  {
   "cell_type": "code",
<<<<<<< HEAD
   "execution_count": 9,
=======
   "execution_count": null,
>>>>>>> 85e23414886eea50b2f28096c32b58e70a4d0893
   "metadata": {
    "vscode": {
     "languageId": "r"
    }
   },
<<<<<<< HEAD
   "outputs": [
    {
     "data": {
      "image/png": "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",
      "text/plain": [
       "plot without title"
      ]
     },
     "metadata": {
      "image/png": {
       "height": 180,
       "width": 360
      }
     },
     "output_type": "display_data"
    }
   ],
=======
   "outputs": [],
>>>>>>> 85e23414886eea50b2f28096c32b58e70a4d0893
   "source": [
    "ggplot(data, aes(x = kozak_region,\n",
    "                 y = mean_ratio,\n",
    "                 color = insert_sequence,\n",
    "                 group = insert_sequence)) +\n",
    "  geom_line() +\n",
    "  geom_point()"
   ]
  },
  {
   "cell_type": "markdown",
   "metadata": {},
   "source": [
    "## 2. Add title to the above plot"
   ]
  },
  {
   "cell_type": "markdown",
   "metadata": {},
   "source": [
    "## 3. Change the plot look to a `classic` theme\n",
    "\n",
    "See https://ggplot2.tidyverse.org/reference/ggtheme.html"
   ]
  },
  {
   "cell_type": "markdown",
   "metadata": {},
   "source": [
    "## 4. Change Y axis to log scale\n",
    "\n",
    "See https://ggplot2.tidyverse.org/reference/scale_continuous.html"
   ]
  },
  {
   "cell_type": "markdown",
   "metadata": {},
   "source": [
    "## 5. Change Y scale to go linearly from 0 to 5"
   ]
  },
  {
   "cell_type": "markdown",
   "metadata": {},
   "source": [
    "# Transforming data\n",
    "\n",
    "Uses functions from the [`dplyr`](https://dplyr.tidyverse.org/) package."
   ]
  },
  {
   "cell_type": "code",
   "execution_count": null,
   "metadata": {
    "vscode": {
     "languageId": "r"
    }
   },
   "outputs": [],
   "source": [
    "data <- read_tsv(\"data/example_dataset_1.tsv\")\n",
    "\n",
    "\n",
    "data"
   ]
  },
  {
   "cell_type": "markdown",
   "metadata": {},
   "source": [
    "## Select specific columns"
   ]
  },
  {
   "cell_type": "code",
   "execution_count": null,
   "metadata": {
    "vscode": {
     "languageId": "r"
    }
   },
   "outputs": [],
   "source": [
    "select(data, strain, mean_ratio, insert_sequence, kozak_region)"
   ]
  },
  {
   "cell_type": "markdown",
   "metadata": {},
   "source": [
    "## Combine operations using the ` %>% ` operator"
   ]
  },
  {
   "cell_type": "code",
   "execution_count": null,
   "metadata": {
    "vscode": {
     "languageId": "r"
    }
   },
   "outputs": [],
   "source": [
    "data <- read_tsv(\"data/example_dataset_1.tsv\") %>% \n",
    "  select(strain, mean_ratio, insert_sequence, kozak_region)"
   ]
  },
  {
   "cell_type": "markdown",
   "metadata": {},
   "source": [
    "Above is the same as the following:"
   ]
  },
  {
   "cell_type": "code",
   "execution_count": null,
   "metadata": {
    "vscode": {
     "languageId": "r"
    }
   },
   "outputs": [],
   "source": [
    "data <- read_tsv(\"data/example_dataset_1.tsv\") %>% \n",
    "  select(., strain, mean_ratio, insert_sequence, kozak_region)"
   ]
  },
  {
   "cell_type": "markdown",
   "metadata": {},
   "source": [
    "The `%>%` operator lets you `chain` different data analysis tasks together and makes the analysis logic easier to understand.\n",
    "\n",
    "Side note: You can create keyboard shortcuts for ` <- ` and ` %>% ` in VSCode as explained [here](https://code.visualstudio.com/docs/getstarted/keybindings). \n",
    "\n",
    "I use `Alt + -` for ` <- ` and `Alt + Shift + m` for ` %>% ` following `RStudio` convention."
   ]
  },
  {
   "cell_type": "markdown",
   "metadata": {},
   "source": [
    "You can get a view of the transformed data using `print()` as the last step in a chain of commands"
   ]
  },
  {
   "cell_type": "code",
   "execution_count": null,
   "metadata": {
    "vscode": {
     "languageId": "r"
    }
   },
   "outputs": [],
   "source": [
    "data <- read_tsv(\"data/example_dataset_1.tsv\") %>% \n",
    "  select(strain, mean_ratio, insert_sequence, kozak_region) %>% \n",
    "  print()"
   ]
  },
  {
   "cell_type": "markdown",
   "metadata": {},
   "source": [
    "## Filter rows"
   ]
  },
  {
   "cell_type": "code",
   "execution_count": null,
   "metadata": {
    "vscode": {
     "languageId": "r"
    }
   },
   "outputs": [],
   "source": [
    "data <- read_tsv(\"data/example_dataset_1.tsv\")"
   ]
  },
  {
   "cell_type": "code",
   "execution_count": null,
   "metadata": {
    "vscode": {
     "languageId": "r"
    }
   },
   "outputs": [],
   "source": [
    "data %>% \n",
    "  filter(kozak_region == \"A\")"
   ]
  },
  {
   "cell_type": "code",
   "execution_count": null,
   "metadata": {
    "vscode": {
     "languageId": "r"
    }
   },
   "outputs": [],
   "source": [
    "data %>%\n",
    "  filter(kozak_region == \"A\", insert_sequence == \"10×AGA\")"
   ]
  },
  {
   "cell_type": "code",
   "execution_count": null,
   "metadata": {
    "vscode": {
     "languageId": "r"
    }
   },
   "outputs": [],
   "source": [
    "data %>%\n",
    "  filter(kozak_region == \"A\") %>% \n",
    "  filter(insert_sequence == \"10×AGA\")"
   ]
  },
  {
   "cell_type": "markdown",
   "metadata": {},
   "source": [
    "## Arrange (sort) rows in a specific order"
   ]
  },
  {
   "cell_type": "code",
   "execution_count": null,
   "metadata": {
    "vscode": {
     "languageId": "r"
    }
   },
   "outputs": [],
   "source": [
    "data %>%\n",
    "  arrange(mean_ratio)"
   ]
  },
  {
   "cell_type": "markdown",
   "metadata": {},
   "source": [
    "## Create new columns using `mutate`"
   ]
  },
  {
   "cell_type": "code",
   "execution_count": null,
   "metadata": {
    "vscode": {
     "languageId": "r"
    }
   },
   "outputs": [],
   "source": [
    "data <- read_tsv(\"data/example_dataset_2.tsv\") %>% \n",
    "  print()"
   ]
  },
  {
   "cell_type": "code",
   "execution_count": null,
   "metadata": {
    "vscode": {
     "languageId": "r"
    }
   },
   "outputs": [],
   "source": [
    "data <- data %>%\n",
    "  mutate(mean_ratio = mean_yfp / mean_rfp) %>%\n",
    "  print()"
   ]
  },
  {
   "cell_type": "markdown",
   "metadata": {},
   "source": [
    "Use mutate to modify existing columns"
   ]
  },
  {
   "cell_type": "code",
   "execution_count": null,
   "metadata": {
    "vscode": {
     "languageId": "r"
    }
   },
   "outputs": [],
   "source": [
    "data %>%\n",
    "  mutate(mean_ratio = round(mean_ratio, 2))"
   ]
  },
  {
   "cell_type": "markdown",
   "metadata": {},
   "source": [
    "## Combine tables using `join` functions\n",
    "\n",
    "Variants: `inner_join`, `left_join`, `right_join`, `full_join`\n",
    "\n",
    "See [https://dplyr.tidyverse.org/reference/mutate-joins.html](https://dplyr.tidyverse.org/reference/mutate-joins.html)"
   ]
  },
  {
   "cell_type": "code",
   "execution_count": null,
   "metadata": {
    "vscode": {
     "languageId": "r"
    }
   },
   "outputs": [],
   "source": [
    "annotations <- read_tsv(\"data/example_dataset_3.tsv\")\n",
    "\n",
    "annotations"
   ]
  },
  {
   "cell_type": "code",
   "execution_count": null,
   "metadata": {
    "vscode": {
     "languageId": "r"
    }
   },
   "outputs": [],
   "source": [
    "data %>% \n",
    "  inner_join(annotations, by = \"strain\")"
   ]
  },
  {
   "cell_type": "code",
   "execution_count": null,
   "metadata": {
    "vscode": {
     "languageId": "r"
    }
   },
   "outputs": [],
   "source": [
    "data %>% \n",
    "  left_join(annotations, by = \"strain\")"
   ]
  },
  {
   "cell_type": "code",
   "execution_count": null,
   "metadata": {
    "vscode": {
     "languageId": "r"
    }
   },
   "outputs": [],
   "source": [
    "data %>% \n",
    "  right_join(annotations, by = \"strain\")"
   ]
  },
  {
   "cell_type": "markdown",
   "metadata": {},
   "source": [
    "## You can combine `dplyr` and `ggplot2` functions\n",
    "\n",
    "But remember to use ` %>% ` in `dplyr` vs ` +` in `ggplot2`!"
   ]
  },
  {
   "cell_type": "code",
   "execution_count": null,
   "metadata": {
    "vscode": {
     "languageId": "r"
    }
   },
   "outputs": [],
   "source": [
    "data %>% \n",
    "  mutate(mean_ratio = mean_yfp / mean_rfp) %>%\n",
    "  left_join(annotations, by = \"strain\") %>%\n",
    "  ggplot(aes(x = kozak_region, y = mean_ratio, \n",
    "             color = insert_sequence, group = insert_sequence)) +\n",
    "  geom_line() +\n",
    "  geom_point()"
   ]
  },
  {
   "cell_type": "markdown",
   "metadata": {},
   "source": [
    "## Use `stringr` functions to manipulate string columns\n",
    "\n",
    "All functions are named nicely and begin with `str_`. I find them easier to use than the equivalent `Python` regular expression functions.\n",
    "\n",
    "See [https://stringr.tidyverse.org/reference/index.html](https://stringr.tidyverse.org/reference/index.html)"
   ]
  },
  {
   "cell_type": "code",
   "execution_count": null,
   "metadata": {
    "vscode": {
     "languageId": "r"
    }
   },
   "outputs": [],
   "source": [
    "data %>% \n",
    "  mutate(mean_ratio = mean_yfp / mean_rfp) %>%\n",
    "  left_join(annotations, by = \"strain\") %>% \n",
    "  mutate(codon = str_extract(insert_sequence, \"[A-Z]{3}$\"))"
   ]
  },
  {
   "cell_type": "markdown",
   "metadata": {},
   "source": [
    "# In-class data transformation exercises\n",
    "\n",
    "(20 min)"
   ]
  },
  {
   "cell_type": "markdown",
   "metadata": {},
   "source": [
    "## 1. Create log2-transformed YFP/RFP ratio as a new column\n",
    "\n",
    "Google for `log2 R` to find the appropriate function"
   ]
  },
  {
   "cell_type": "code",
   "execution_count": null,
   "metadata": {
    "vscode": {
     "languageId": "r"
    }
   },
   "outputs": [],
   "source": [
    "data <- read_tsv(\"data/example_dataset_2.tsv\")"
   ]
  },
  {
   "cell_type": "markdown",
   "metadata": {},
   "source": [
    "## 2. Extract strain number from the `strain` column into a new column and sort numerically by strain number\n",
    "\n",
    "Extract the strain number using a `stringr` function.\n",
    "\n",
    "Google for `character to integer R` to find appropriate function to use in `mutate`.\n",
    "\n",
    "Then sort."
   ]
  },
  {
   "cell_type": "code",
   "execution_count": null,
   "metadata": {
    "vscode": {
     "languageId": "r"
    }
   },
   "outputs": [],
   "source": [
    "annotations <- read_tsv(\"data/example_dataset_3.tsv\")\n",
    "\n",
    "annotations"
   ]
  },
  {
   "cell_type": "markdown",
   "metadata": {},
   "source": [
    "## 3. Plot with the X axis as `kozak_region` but sorted by strain number\n",
    "\n",
    "This requires a bit more reading and discussion, but it is a good example of how to learn new `tidyverse` functions on your own!\n",
    "\n",
    "Use [fct_reorder](https://forcats.tidyverse.org/reference/fct_reorder.html) function from the [`forcats`](https://forcats.tidyverse.org/reference/index.html) package to sort `kozak_region` by strain number you created above in a `mutate` step and then feed it into `ggplot`."
   ]
  },
  {
   "cell_type": "code",
   "execution_count": null,
   "metadata": {
    "vscode": {
     "languageId": "r"
    }
   },
   "outputs": [],
   "source": [
    "data %>% \n",
    "  mutate(mean_ratio = mean_yfp / mean_rfp) %>%\n",
    "  left_join(annotations, by = \"strain\") %>%\n",
    "  ggplot(aes(x = kozak_region, y = mean_ratio, \n",
    "             color = insert_sequence, group = insert_sequence)) +\n",
    "  geom_line() +\n",
    "  geom_point()"
   ]
  },
  {
   "cell_type": "markdown",
   "metadata": {},
   "source": [
    "# Grouping, summarizing, and reshaping data"
   ]
  },
  {
   "cell_type": "markdown",
   "metadata": {},
   "source": [
    "## Use `summarize` to calculate stats across rows"
   ]
  },
  {
   "cell_type": "code",
   "execution_count": null,
   "metadata": {
    "vscode": {
     "languageId": "r"
    }
   },
   "outputs": [],
   "source": [
    "data <- read_tsv(\"data/example_dataset_2.tsv\")"
   ]
  },
  {
   "cell_type": "code",
   "execution_count": 4,
   "metadata": {
    "vscode": {
     "languageId": "r"
    }
   },
   "outputs": [
    {
     "name": "stdout",
     "output_type": "stream",
     "text": [
      "\u001b[90m# A tibble: 1 x 2\u001b[39m\n",
      "  max_yfp max_rfp\n",
      "    \u001b[3m\u001b[90m<dbl>\u001b[39m\u001b[23m   \u001b[3m\u001b[90m<dbl>\u001b[39m\u001b[23m\n",
      "\u001b[90m1\u001b[39m    \u001b[4m9\u001b[24m365   \u001b[4m2\u001b[24m\u001b[4m3\u001b[24m866\n"
     ]
    }
   ],
   "source": [
    "data %>%\n",
    "  summarize(max_yfp = max(mean_yfp),\n",
    "            max_rfp = max(mean_rfp)) %>%\n",
    "  print()"
   ]
  },
  {
   "cell_type": "markdown",
   "metadata": {},
   "source": [
    "## Other examples of summary functions:"
   ]
  },
  {
   "cell_type": "markdown",
   "metadata": {},
   "source": [
    "- min()\t\n",
    "- mean()\n",
    "- sd()\t\n",
    "- dplyr::first()\t\n",
    "- dplyr::n()"
   ]
  },
  {
   "cell_type": "markdown",
   "metadata": {},
   "source": [
    "## Use `group_by` to group rows by one or more columns"
   ]
  },
  {
   "cell_type": "code",
   "execution_count": null,
   "metadata": {
    "vscode": {
     "languageId": "r"
    }
   },
   "outputs": [],
   "source": [
    "data <- read_tsv(\"data/example_dataset_4.tsv\") %>% \n",
    "  print()"
   ]
  },
  {
   "cell_type": "code",
   "execution_count": 8,
   "metadata": {
    "vscode": {
     "languageId": "r"
    }
   },
   "outputs": [
    {
     "name": "stdout",
     "output_type": "stream",
     "text": [
      "\u001b[90m# A tibble: 74 x 4\u001b[39m\n",
      "\u001b[90m# Groups:   strain [16]\u001b[39m\n",
      "   strain    yfp   rfp replicate\n",
      "   \u001b[3m\u001b[90m<chr>\u001b[39m\u001b[23m   \u001b[3m\u001b[90m<dbl>\u001b[39m\u001b[23m \u001b[3m\u001b[90m<dbl>\u001b[39m\u001b[23m     \u001b[3m\u001b[90m<dbl>\u001b[39m\u001b[23m\n",
      "\u001b[90m 1\u001b[39m schp677  \u001b[4m4\u001b[24m123 \u001b[4m2\u001b[24m\u001b[4m0\u001b[24m661         1\n",
      "\u001b[90m 2\u001b[39m schp678  \u001b[4m4\u001b[24m550 \u001b[4m2\u001b[24m\u001b[4m1\u001b[24m437         1\n",
      "\u001b[90m 3\u001b[39m schp675  \u001b[4m3\u001b[24m880 \u001b[4m2\u001b[24m\u001b[4m1\u001b[24m323         1\n",
      "\u001b[90m 4\u001b[39m schp676  \u001b[4m2\u001b[24m863 \u001b[4m2\u001b[24m\u001b[4m0\u001b[24m668         1\n",
      "\u001b[90m 5\u001b[39m schp687  \u001b[4m4\u001b[24m767 \u001b[4m2\u001b[24m\u001b[4m0\u001b[24m995         1\n",
      "\u001b[90m 6\u001b[39m schp688  \u001b[4m1\u001b[24m274 \u001b[4m2\u001b[24m\u001b[4m0\u001b[24m927         1\n",
      "\u001b[90m 7\u001b[39m schp679  \u001b[4m2\u001b[24m605 \u001b[4m2\u001b[24m\u001b[4m0\u001b[24m840         1\n",
      "\u001b[90m 8\u001b[39m schp680  \u001b[4m1\u001b[24m175 \u001b[4m2\u001b[24m\u001b[4m0\u001b[24m902         1\n",
      "\u001b[90m 9\u001b[39m schp681  \u001b[4m3\u001b[24m861 \u001b[4m2\u001b[24m\u001b[4m0\u001b[24m659         1\n",
      "\u001b[90m10\u001b[39m schp683  \u001b[4m9\u001b[24m949 \u001b[4m2\u001b[24m\u001b[4m5\u001b[24m406         1\n",
      "\u001b[90m# … with 64 more rows\u001b[39m\n"
     ]
    }
   ],
   "source": [
    "data %>% \n",
    "  group_by(strain) %>%\n",
    "  print()"
   ]
  },
  {
   "cell_type": "markdown",
   "metadata": {},
   "source": [
    "## Use `group_by` + `summarize` for statistics by group"
   ]
  },
  {
   "cell_type": "code",
   "execution_count": 9,
   "metadata": {
    "vscode": {
     "languageId": "r"
    }
   },
   "outputs": [
    {
     "name": "stderr",
     "output_type": "stream",
     "text": [
      "`summarise()` ungrouping output (override with `.groups` argument)\n",
      "\n"
     ]
    },
    {
     "name": "stdout",
     "output_type": "stream",
     "text": [
      "\u001b[90m# A tibble: 16 x 3\u001b[39m\n",
      "   strain  mean_yfp mean_rfp\n",
      "   \u001b[3m\u001b[90m<chr>\u001b[39m\u001b[23m      \u001b[3m\u001b[90m<dbl>\u001b[39m\u001b[23m    \u001b[3m\u001b[90m<dbl>\u001b[39m\u001b[23m\n",
      "\u001b[90m 1\u001b[39m schp674    \u001b[4m1\u001b[24m270    \u001b[4m2\u001b[24m\u001b[4m0\u001b[24m316 \n",
      "\u001b[90m 2\u001b[39m schp675    \u001b[4m3\u001b[24m687.   \u001b[4m2\u001b[24m\u001b[4m0\u001b[24m438.\n",
      "\u001b[90m 3\u001b[39m schp676    \u001b[4m2\u001b[24m656.   \u001b[4m2\u001b[24m\u001b[4m0\u001b[24m223.\n",
      "\u001b[90m 4\u001b[39m schp677    \u001b[4m3\u001b[24m967.   \u001b[4m2\u001b[24m\u001b[4m0\u001b[24m604 \n",
      "\u001b[90m 5\u001b[39m schp678    \u001b[4m4\u001b[24m378.   \u001b[4m2\u001b[24m\u001b[4m0\u001b[24m630.\n",
      "\u001b[90m 6\u001b[39m schp679    \u001b[4m2\u001b[24m528    \u001b[4m1\u001b[24m\u001b[4m9\u001b[24m906 \n",
      "\u001b[90m 7\u001b[39m schp680    \u001b[4m1\u001b[24m117.   \u001b[4m1\u001b[24m\u001b[4m9\u001b[24m377.\n",
      "\u001b[90m 8\u001b[39m schp681    \u001b[4m3\u001b[24m705    \u001b[4m2\u001b[24m\u001b[4m0\u001b[24m227 \n",
      "\u001b[90m 9\u001b[39m schp683    \u001b[4m9\u001b[24m364.   \u001b[4m2\u001b[24m\u001b[4m3\u001b[24m866.\n",
      "\u001b[90m10\u001b[39m schp684    \u001b[4m3\u001b[24m294.   \u001b[4m2\u001b[24m\u001b[4m0\u001b[24m585.\n",
      "\u001b[90m11\u001b[39m schp685    \u001b[4m7\u001b[24m379    \u001b[4m2\u001b[24m\u001b[4m2\u001b[24m956 \n",
      "\u001b[90m12\u001b[39m schp686    \u001b[4m5\u001b[24m000.   \u001b[4m2\u001b[24m\u001b[4m1\u001b[24m171.\n",
      "\u001b[90m13\u001b[39m schp687    \u001b[4m4\u001b[24m658.   \u001b[4m2\u001b[24m\u001b[4m0\u001b[24m860.\n",
      "\u001b[90m14\u001b[39m schp688    \u001b[4m1\u001b[24m748.   \u001b[4m2\u001b[24m\u001b[4m0\u001b[24m755.\n",
      "\u001b[90m15\u001b[39m schp689    \u001b[4m8\u001b[24m693.   \u001b[4m2\u001b[24m\u001b[4m2\u001b[24m650.\n",
      "\u001b[90m16\u001b[39m schp690    \u001b[4m3\u001b[24m535.   \u001b[4m2\u001b[24m\u001b[4m0\u001b[24m594.\n"
     ]
    }
   ],
   "source": [
    "data %>% \n",
    "  group_by(strain) %>%\n",
    "  summarize(mean_yfp = mean(yfp), mean_rfp = mean(rfp)) %>%\n",
    "  print()"
   ]
  },
  {
   "cell_type": "code",
   "execution_count": 10,
   "metadata": {
    "vscode": {
     "languageId": "r"
    }
   },
   "outputs": [
    {
     "name": "stderr",
     "output_type": "stream",
     "text": [
      "`summarise()` ungrouping output (override with `.groups` argument)\n",
      "\n"
     ]
    },
    {
     "name": "stdout",
     "output_type": "stream",
     "text": [
      "\u001b[90m# A tibble: 16 x 5\u001b[39m\n",
      "   strain  mean_yfp mean_rfp se_yfp se_rfp\n",
      "   \u001b[3m\u001b[90m<chr>\u001b[39m\u001b[23m      \u001b[3m\u001b[90m<dbl>\u001b[39m\u001b[23m    \u001b[3m\u001b[90m<dbl>\u001b[39m\u001b[23m  \u001b[3m\u001b[90m<dbl>\u001b[39m\u001b[23m  \u001b[3m\u001b[90m<dbl>\u001b[39m\u001b[23m\n",
      "\u001b[90m 1\u001b[39m schp674    \u001b[4m1\u001b[24m270    \u001b[4m2\u001b[24m\u001b[4m0\u001b[24m316    54     717 \n",
      "\u001b[90m 2\u001b[39m schp675    \u001b[4m3\u001b[24m687.   \u001b[4m2\u001b[24m\u001b[4m0\u001b[24m438.   84.6   483.\n",
      "\u001b[90m 3\u001b[39m schp676    \u001b[4m2\u001b[24m656.   \u001b[4m2\u001b[24m\u001b[4m0\u001b[24m223.  137.    380.\n",
      "\u001b[90m 4\u001b[39m schp677    \u001b[4m3\u001b[24m967.   \u001b[4m2\u001b[24m\u001b[4m0\u001b[24m604   107.    423.\n",
      "\u001b[90m 5\u001b[39m schp678    \u001b[4m4\u001b[24m378.   \u001b[4m2\u001b[24m\u001b[4m0\u001b[24m630.  111.    575.\n",
      "\u001b[90m 6\u001b[39m schp679    \u001b[4m2\u001b[24m528    \u001b[4m1\u001b[24m\u001b[4m9\u001b[24m906    33.9  \u001b[4m1\u001b[24m034.\n",
      "\u001b[90m 7\u001b[39m schp680    \u001b[4m1\u001b[24m117.   \u001b[4m1\u001b[24m\u001b[4m9\u001b[24m377.   27.7   700.\n",
      "\u001b[90m 8\u001b[39m schp681    \u001b[4m3\u001b[24m705    \u001b[4m2\u001b[24m\u001b[4m0\u001b[24m227    90.8   469.\n",
      "\u001b[90m 9\u001b[39m schp683    \u001b[4m9\u001b[24m364.   \u001b[4m2\u001b[24m\u001b[4m3\u001b[24m866.  352.    515.\n",
      "\u001b[90m10\u001b[39m schp684    \u001b[4m3\u001b[24m294.   \u001b[4m2\u001b[24m\u001b[4m0\u001b[24m585.   49.6   318.\n",
      "\u001b[90m11\u001b[39m schp685    \u001b[4m7\u001b[24m379    \u001b[4m2\u001b[24m\u001b[4m2\u001b[24m956   194.    973.\n",
      "\u001b[90m12\u001b[39m schp686    \u001b[4m5\u001b[24m000.   \u001b[4m2\u001b[24m\u001b[4m1\u001b[24m171.   81.5   307.\n",
      "\u001b[90m13\u001b[39m schp687    \u001b[4m4\u001b[24m658.   \u001b[4m2\u001b[24m\u001b[4m0\u001b[24m860.   80.9   199.\n",
      "\u001b[90m14\u001b[39m schp688    \u001b[4m1\u001b[24m748.   \u001b[4m2\u001b[24m\u001b[4m0\u001b[24m755.  160.    203.\n",
      "\u001b[90m15\u001b[39m schp689    \u001b[4m8\u001b[24m693.   \u001b[4m2\u001b[24m\u001b[4m2\u001b[24m650.  667.   \u001b[4m1\u001b[24m045.\n",
      "\u001b[90m16\u001b[39m schp690    \u001b[4m3\u001b[24m535.   \u001b[4m2\u001b[24m\u001b[4m0\u001b[24m594.   31.0   173.\n"
     ]
    }
   ],
   "source": [
    "data %>% \n",
    "  group_by(strain) %>%\n",
    "  summarize(mean_yfp = mean(yfp), mean_rfp = mean(rfp),\n",
    "            se_yfp = sd(yfp) / sqrt(n()), \n",
    "            se_rfp = sd(rfp) / sqrt(n())) %>%\n",
    "  print()"
   ]
  },
  {
   "cell_type": "markdown",
   "metadata": {},
   "source": [
    "## `%>%` enables complex yet easily understandable data analysis pipelines"
   ]
  },
  {
   "cell_type": "code",
   "execution_count": null,
   "metadata": {
    "vscode": {
     "languageId": "r"
    }
   },
   "outputs": [],
   "source": [
    "annotations <- read_tsv(\"data/example_dataset_3.tsv\")\n",
    "\n",
    "annotations"
   ]
  },
  {
   "cell_type": "code",
   "execution_count": 13,
   "metadata": {
    "vscode": {
     "languageId": "r"
    }
   },
   "outputs": [
    {
     "name": "stderr",
     "output_type": "stream",
     "text": [
      "`summarise()` ungrouping output (override with `.groups` argument)\n",
      "\n"
     ]
    },
    {
     "name": "stdout",
     "output_type": "stream",
     "text": [
      "\u001b[90m# A tibble: 16 x 6\u001b[39m\n",
      "   strain  mean_yfp mean_rfp mean_ratio insert_sequence kozak_region\n",
      "   \u001b[3m\u001b[90m<chr>\u001b[39m\u001b[23m      \u001b[3m\u001b[90m<dbl>\u001b[39m\u001b[23m    \u001b[3m\u001b[90m<dbl>\u001b[39m\u001b[23m      \u001b[3m\u001b[90m<dbl>\u001b[39m\u001b[23m \u001b[3m\u001b[90m<chr>\u001b[39m\u001b[23m           \u001b[3m\u001b[90m<chr>\u001b[39m\u001b[23m       \n",
      "\u001b[90m 1\u001b[39m schp674    \u001b[4m1\u001b[24m270    \u001b[4m2\u001b[24m\u001b[4m0\u001b[24m316      0.062\u001b[4m5\u001b[24m 10×AAG          G           \n",
      "\u001b[90m 2\u001b[39m schp675    \u001b[4m3\u001b[24m687.   \u001b[4m2\u001b[24m\u001b[4m0\u001b[24m438.     0.180  10×AAG          B           \n",
      "\u001b[90m 3\u001b[39m schp676    \u001b[4m2\u001b[24m656.   \u001b[4m2\u001b[24m\u001b[4m0\u001b[24m223.     0.131  10×AAG          F           \n",
      "\u001b[90m 4\u001b[39m schp677    \u001b[4m3\u001b[24m967.   \u001b[4m2\u001b[24m\u001b[4m0\u001b[24m604      0.193  10×AAG          E           \n",
      "\u001b[90m 5\u001b[39m schp678    \u001b[4m4\u001b[24m378.   \u001b[4m2\u001b[24m\u001b[4m0\u001b[24m630.     0.212  10×AAG          D           \n",
      "\u001b[90m 6\u001b[39m schp679    \u001b[4m2\u001b[24m528    \u001b[4m1\u001b[24m\u001b[4m9\u001b[24m906      0.127  10×AAG          A           \n",
      "\u001b[90m 7\u001b[39m schp680    \u001b[4m1\u001b[24m117.   \u001b[4m1\u001b[24m\u001b[4m9\u001b[24m377.     0.057\u001b[4m7\u001b[24m 10×AAG          H           \n",
      "\u001b[90m 8\u001b[39m schp681    \u001b[4m3\u001b[24m705    \u001b[4m2\u001b[24m\u001b[4m0\u001b[24m227      0.183  10×AAG          C           \n",
      "\u001b[90m 9\u001b[39m schp683    \u001b[4m9\u001b[24m364.   \u001b[4m2\u001b[24m\u001b[4m3\u001b[24m866.     0.392  10×AGA          G           \n",
      "\u001b[90m10\u001b[39m schp684    \u001b[4m3\u001b[24m294.   \u001b[4m2\u001b[24m\u001b[4m0\u001b[24m585.     0.160  10×AGA          B           \n",
      "\u001b[90m11\u001b[39m schp685    \u001b[4m7\u001b[24m379    \u001b[4m2\u001b[24m\u001b[4m2\u001b[24m956      0.321  10×AGA          F           \n",
      "\u001b[90m12\u001b[39m schp686    \u001b[4m5\u001b[24m000.   \u001b[4m2\u001b[24m\u001b[4m1\u001b[24m171.     0.236  10×AGA          E           \n",
      "\u001b[90m13\u001b[39m schp687    \u001b[4m4\u001b[24m658.   \u001b[4m2\u001b[24m\u001b[4m0\u001b[24m860.     0.223  10×AGA          D           \n",
      "\u001b[90m14\u001b[39m schp688    \u001b[4m1\u001b[24m748.   \u001b[4m2\u001b[24m\u001b[4m0\u001b[24m755.     0.084\u001b[4m2\u001b[24m 10×AGA          A           \n",
      "\u001b[90m15\u001b[39m schp689    \u001b[4m8\u001b[24m693.   \u001b[4m2\u001b[24m\u001b[4m2\u001b[24m650.     0.384  10×AGA          H           \n",
      "\u001b[90m16\u001b[39m schp690    \u001b[4m3\u001b[24m535.   \u001b[4m2\u001b[24m\u001b[4m0\u001b[24m594.     0.172  10×AGA          C           \n"
     ]
    }
   ],
   "source": [
    "data %>% \n",
    "  group_by(strain) %>%\n",
    "  summarize(mean_yfp = mean(yfp), mean_rfp = mean(rfp)) %>%\n",
    "  mutate(mean_ratio = mean_yfp / mean_rfp) %>%\n",
    "  left_join(annotations, by = \"strain\") %>%\n",
    "  print()"
   ]
  },
  {
   "cell_type": "markdown",
   "metadata": {},
   "source": [
    "## %>% and + if you want to plot\n"
   ]
  },
  {
   "cell_type": "code",
   "execution_count": 19,
   "metadata": {
    "vscode": {
     "languageId": "r"
    }
   },
   "outputs": [
    {
     "name": "stderr",
     "output_type": "stream",
     "text": [
      "`summarise()` ungrouping output (override with `.groups` argument)\n",
      "\n"
     ]
    },
    {
     "data": {
      "image/png": "iVBORw0KGgoAAAANSUhEUgAAAlgAAAFoCAIAAAAElhK7AAAACXBIWXMAABJ0AAASdAHeZh94AAAgAElEQVR4nOzdd1wT9/8H8M9dNglb9pIlhKVIq7hHtdaBVcCBilacHa5q22/tsNrWtv7aOlsVV1VcVcBBa7Uu3BVRkL1BAdkrO5e7+/0RSxERwwhhvJ+P/pF8buSdPpAXd/cZGE3TCAAAAOipcF0XAAAAAOgSBCEAAIAeDYIQAABAjwZBCAAAoEeDIAQAANCjQRACAADo0SAIAQAA9GgQhAAAAHq0rhSEH374obOzc0FBga4LAQAA0H10pSAsLy/Pzc0lCELXhQAAAOg+tBuESqVyx44ds2bNCgkJ2bZtm1QqbWbnxMTEt99+u7CwUKslAQAAAA1pNwh37dr14MGDlStXfvzxxxkZGVu3bn3ZnlKpdOvWrTDxKQAAgA6mxSCsrq6+cuXKokWLBgwY4OvrGxYWdvfu3aqqqiZ3Dg8Pt7Ky0l4xAAAAQJO0GITJyck0Tfv6+qrfenl5YRiWmJj44p7//PNPcnLy/PnztVcMAAAA0CSm9k5dUlJiZGTE5XLVbzkcjkAgqK6ubrRbXV3dr7/+unr16vo9GyouLr579676dXV1NYvF0l7BAAAAeiAtBqFMJmOz2Q1buFyuTCZrtNuvv/46aNAgHx+fJrvJZGRkbNy4seEZtFEqAACAHkuLQcjn8xUKRcMWgiD09fUbtsTGxubk5Gzfvv1lJ3Fzc1u7dq369f79+x89eqSNUgEAAPRYWgxCExOTuro6pVKpvi4kCKK2ttbc3LzhPg8fPiwvL589ezZCSN1ldPny5YMHD16zZo16B2tr68DAQPXr6OhoGEQIQFenpOgygrBms3FM16UAgBDSahCqu8k8evTotddeQwglJiZiGObj49Nwn3nz5gUHB6tfV1ZWfvHFF5999pmjo6P2qgIA6EoFQazOyT9aWq6iaQGDsdrO+jMHOxYGeQh0TItBaGRkNGTIkN27dyOEFApFeHj4uHHj9PT0EELnzp1DCAUEBBgbGxsbG6v3V184WlhYmJiYaK8qAIBOUDQKSc28VF2jfismyfX5TxQU/Z2Tg24LA0C7A+o/+OADLy+vH3/88ddffx08ePDChQvV7Xfu3Llz545WPxoA0KlcqampT8F6Pz4pqiJUOqkHgHpYF5rMJTQ0NCIiIisry8XFRde1AABaZkfR02VZuS+2TzI1HmRg4MLjuvC4LjyeAZPR8bWBHk6Lt0YBAKCeCbPp3zYxldUxlf8NLzZns1x4XFceT52L6oA0esmxALQL+PECAHSEt0yMDRnMWvK5G6H+BvpHhH1y5fJcmTxFKk2VyHLl8n/qxLdrRQ13M2YynXhcJy7Xicd14nKceFxPvp7V88OUAWg1CEIAQEfIl8sViMIwVP80xpXHOyLs48TjOvG4yPi/PZUUXahQqNMxV65IkUhTpdIEsSReJG54whfTUf26FbXVqFRPlYQzlwtDOnomCEIAgNYVK5RvJ6cpSGq3mwuOUKFCKdTjTell2mTwsHHsxXQkaPqJ/L90VF9BJrY5HQsVyvcyc85VViGEODi+ytZ6g6M9jOjoaSAIAQDaJSLJCUmphQrld04Oi6wsWncSFtb6dDRiMp1fSEdHHldF04HJaXH/7qygqO8fFyKEYERHTwNBCADQIpKmQ1IzEsWSMCuL/9nbtu/JX5aO+XJ5tkyeJZVny2TZMnmWTPbohXQ0ZDJ6sVg5Mnmjc/5cWPSpvS10Xu1RIAgBAFq0Kjvvj8rq4UYGv7o6dcwnsjDMlcdz5fHGN5iZQ0XTj5+/dsyVyx+JJY0PppGSpPPk8r4CfsdUCzoDCEIAgLbsKHq6veipmx7vtJeQg2t3+o7mMZu6dtz3tHRhRvZz+2EIIWTOhuXeehZd/mgCALqxv6qqV2XnmbKY57yFxp1yIODbvUzMXljidLyJMQzM6GkgCAEA7S9VIp2ZmoFj6KSnuyuPp+tymtaLxTrq0effLKQRQv31BfvdYeKqHqcz/pkGAOjSSpTK8UmpdSryoNB1lJGhrstpzhhjo8yB/S9U1RQplB583pvGxjCSsAeCIAQAtCcZRU1NTn8sV6zrbRdqYf7qA3TNiMmcYd5L11UAXYJbowCAdkMjFJaedbdONM2s17re9rouBwCNQBACANrN/3Lzj5dVDDE0OCR0hVuMoKuAIAQAtI8DJWWbHhc5crlRnu5cnQ6WAKBF4IcVANAOrtfULc3MNmAyznoLYRwe6FogCAEAbZUulU1JTqNpFOnp7sXX03U5ALQM9BoFALRJJaGanJRWrVLt7OM8xthI1+UA0GJwRQgAaD0lRQenpGfJZB/b2yy1ttR1OQC0BgQhAKCVaIQWZmRfq6mdaGq80RGWLgJdFQQhAKCV1uc/Plxa1l9fcMLDjQGL2YIuC4IQANAav5dVbMh/Ys1hn/ES8hmweh/owiAIAQAtdqu2bm56loDB+NPbw5YDazWArg16jQIAWiZPLg9MSVfR9O8ebrCALegGIAgBAC1QpyInJ6WVKYltrk6Te5m8+gAAOj24NQoA0BRB00Ep6ckS6SIri2U2VrouB4D2AUEIANDU8qzcS9U1b5kY/9rHWde1ANBuIAgBABr54XHhruISD77ecQ83JgyWAN0IBCEA4NWiyivX5hZYstnnvT0MmTBYAnQrEIQAgFeIF4nnpmdxcDzay92ey9F1OQC0M+g1CgBoTpFC+XZympQkj3q4+Rvo67ocANofBCEA4KVEJDkxKbVIofzBqfdM8166LgcArYBbowCAppE0PTs1M1EsmW9p/rG9ja7LAUBbIAgBAE1bmZ13rrJquJHBrj4uuq4FAC2CIAQANGFb4dMdRU/d9XinvYRsHAZLgO4MghAA0Nj5qurVOXmmLOZZb6ExE3oSgG4OghAA8JwUiTQkNQPH0ClPd1ceT9flAKB18LceAOA/T5XKCUmpdSrykLDPSCNDXZcDQEeAK0IAwDMyipqanP5YrljX236OhZmuywGgg0AQAgAQQoii0ezUzH/qRNPNe33Z207X5QDQcSAIAQAIIfS/3PzoisohhgaH3F2hkyjoUSAIAQBo/9PS/3tS5MjlRnm6c3D4tQB6FviJB6Cni62pfTcrx4DJOOstNGezdF0OAB0NghCAHi1dKpuanE7TKNLT3Yuvp+tyANABGD4BQM9VSagCklKrVaqdfZzHGBvpuhwAdAOuCAHooeQUNTk5NVsm/5+97VJrS12XA4DOQBAC0BPRCC3KyL5dKwo0M/3W0UHX5QCgSy24NVpdXX316tWioiI2m+3h4TF48GAGg6G9ygAA2vNV/uOI0nI/fcEhd1eYUhv0cJoG4a5du9asWSORSOpb7OzsduzYMXnyZO0UBgDQlhNlFV/nP7HhsM94Cfnw5yzo8TS6Nfrnn3++++677u7u4eHhV69ejYmJ+frrr1ks1tSpUy9fvqztEgEA7ehmbd289CwBg/GHt4cNh63rcgDQPYym6VfuNGzYMJFIFBcXx2L9N8ZIJpP5+/v36tWrw7IwNDQ0IiIiKyvLxQWWCQWgNfLkcv8HjyoJVbSXe4Cpia7LAaBT0OiKMD4+fvr06Q1TECHE4/FCQkLu37+vncIAAO2sVkUGJKWVKYktLo6QggDU0ygIGQxGkxeOMplMqVS2d0kAgPZH0HRQSlqKRLrC1voDGytdlwNAJ6JRZ5mBAwcePXp05cqVfD6/vlEikURGRnp6emqtNgBAm6RKpL+VlBUqlC48bp5ccbm6dryJ8Y/OvXVdFwCdi0ZB+OWXX77xxhs+Pj7vvvuur68vl8tNSUnZvn17SkrK8ePHtV0iAKAVjpaWz8/IUlL/3ctx5HKPebgxMRgtAcBzNArC4cOHR0VFLVmy5KOPPqpv1NPT27Zt24wZM7RWGwCglUqVxNLMnIYpiBBSUJQeA+bQAKAxTccRBgQEjBs37vr162lpaQRB2Nvbv/HGG8bGxlotDgDQOtdqakUk2aixWKl8KJIMMBDopCQAOq0WzCzDZrPHjBkzZswY7VUDAGgXMop6SXvjdAQANBeE/fr1c3R0jI6O7tevXzO7JSQktHdVAIA28dNv4rKPg+M+Av6L7QD0cPDAAIBuyJuvN9608ZOLbx3tjZmw8hoAjTX3r6L+Ug+u+QDoWooVynt1IiaG2XHYpQThxuOtsrOeY2Gu67oA6Iw0uiKcOXPmP//882L7X3/9tXTp0vYuCQDQJjRCCzOyKwnVD069c/1fkwwb9OC1fqEW5jBsAoAmNXdFWFNTU1NTgxA6ceLEiBEjLCwsGm6lafr48ePHjx/ftWuXdmsEALTE5ifF56uqxxgbrbS11nUtAHQBzQXhli1b1q9fr3793nvvNbmPv79/+xcFAGitFIn0s7wCYyZzv7sLLDQIgCaaC8KRI0eqX6xfv37atGkeHh4Nt2IYZm5uPm3aNO0VBwBoEQVFzUrLlFPUQXdXOw5H1+UA0DW8IgjVWRgTE7N06dLRo0d3UFEAgFb5KCf/kViywMpiunkvXdcCQJehUWeZ+/fvN5mCsbGxML4egE7iYlXNjqKnzjzuZhdHXdcCQFei0aAimqY3b9586dKlRosu5efnl5WVaacwAEALlBPEO+lZDAyLEPbRZzB0XQ4AXYlGQbhz587Vq1ebmZkplcq6ujp7e3uZTFZWVmZtbb1jxw5tlwgAeKWFGdlPlcqvHe39DfR1XQsAXYxGQXjgwIGRI0f+/fffpaWltra2586d8/b2/vvvv2fNmjVw4MBmDlQqleHh4bdv36ZpetCgQQsXLtTT02u0T0lJyc6dO1NTU/X09Pr16xcWFmZoaNj6LwRAz7OruORsRdUQQ4NP7W11XQsAXY9GzwgzMzOnTp3KZDJtbGx69ep1+/ZthNDYsWPnzJmzYcOGZg7ctWvXgwcPVq5c+fHHH2dkZGzdurXRDjRNf/311yKRaPXq1YsXL05OTv75559b/WUA6IGyZfKPcvINmYwIYR8GrDUIQMtpOvEg9e9k9g4ODllZWerXI0eOXLRo0csOqa6uvnLlyieffDJgwACEUFhY2IYNG6qqqkxMTOr3yczMfPLkyf79+3v16qX+lB9//FGhUHCg5zcAGiBoenZahpgkI4R9enPhXw0AraHRFaGXl9epU6dUKhVCSCgU3rhxQ91eXFwsl8tfdlRycjJN076+vvUnwTAsMTGx4T5isdjT01OdggghDodD07T6gwAAr/RF3uN7deJgM9PZFma6rgWArkqjK8IVK1bMmDHDwcHh5s2bkyZNmjlzZnBwsI+Pz9atWwcNGvSyo0pKSoyMjLhcrvoth8MRCATV1dUN9/Hz8/Pz81O/FolEZ86c8fLy4vP/WymmuLj47t276tfV1dUsFqtFXw+AbuxGbd2PT4psOexwNxdd1wJAF6ZREE6fPp2iqKNHj9I0PX369LNnzx49ejQyMtLJyWnbtm0vO0omk7HZ7IYtXC5XJpM1ufPKlStzc3OZTOaXX37ZsD0jI2Pjxo0Nz6BJwQB0ezUqVWhaJk3Th4R9YHElANpC038/M2fOnDlzpvr1kSNHNmzYUF1d7e3t3czDPD6fr1AoGrYQBKGv33Tf7rVr11ZUVPzxxx/r16/fvHlz79691e1ubm5r165Vv96/f/+jR480LBiA7u3dzJwCuWKtg+0oI+hlDUCbvDoI5XK5m5vb+++///HHH9c3Ojs7v/JAExOTuro6pVKpvi4kCKK2ttbc/LkV0TIzMxUKhbe3t7m5ubm5ubu7e1xcXHx8fH0QWltbBwYGql9HR0cTBKHxVwOg2zpYUna8rMJPX7DOwV7XtQDQ5b26swyXyzU1Nb1z505LT63uJlN/DZeYmIhhmI+PT8N97t69u3XrVpqm1W+VSiVFUTCOEIBm5Mnly7Nz+QzGEWEfNiwwAUCbaXRrdMeOHW+++eYvv/yydOlShsazNxkZGQ0ZMmT37t0IIYVCER4ePm7cOPWA+nPnziGEAgICRo0aFR0dvXXr1jfeeIMgiKioKD6f3/wgfQB6MopG89Oz61RkuJuLmx5P1+UA0B1g9VdjzRg5cmR+fn5BQYFAILCxsWm0NT09/WUHymSy8PDwO3fuMBiM4cOHL1iwgMlkIoTUj/3UvWASExMPHz785MkTDocjFArnzp374keohYaGRkREZGVlubhAHznQQ63Pf/JV/uO3e5mc9hLquhYAugmNgrD51XfrhzdoGwQh6OHiROIhDx4Zs5iPXvO1YMNQIgDah0a3Rjss6gAALyMhydmpmSqaPuDmCikIQDvSaGYZAIDOfZCVmyWTrbC1nmBqrOtaAOhWIAgB6AKiyit/Kynz5OttdHLQdS0AdDcQhAB0dkUK5eLMbA6OHxX24eHwbxaAdgYzMwHQqVE0mpueWUmotrg4+gj4rz4AANBC8NclAJ3aT4VFV6prxxobLbe11nUtAHRPr74ijIuLy8jIsLa29vf3f3F9eQCA9jwUSz7PK+jFYh0UusIUMgBoSXNBKJPJJk+efOnSJfVbGxubffv2jRs3rkMKA6Cnk1PUvLRMJUXvFDpbPb+QCwCgHTUXhN9///2lS5eGDRsWEBBQWFi4e/fuqVOnZmdnW1vDLRoAtG51Tn6SRLrE2jLYzFTXtQDQnTUXhCdOnBAKhVevXlXPL+rr6zt//vyYmJjFixd3VHkA9FB/VVXvLHrqwuP+6Nxb17UA0M0111kmNzd3+PDh9bNsT548GSFUVFTUEXUB0IOVE8T89GwGhkUI+wg0nuYeANA6zV0REgQhEAjq35qYmCCESJLUelEA9GA0QmHp2SVK5XdODgMNml7IGgDQjmD4BACdyy9FT2Mqq4YZGnxk1/QyLACA9gVBCEAnkiaVfZyTb8hkHBb2YWAwYgKAjvCKcYQZGRnHjx9v2JKamtqoZebMme1fFwA9j4KiZqVmyChqn3sfBy5H1+WAzuv+/fuvv/76kiVLdu3a1ZGfe+3atWvXrq1cudLIyKgjP1fbXhGEMTExMTExDVuio6Ojo6MbtkAQAtAuPst7nCCWhFqYh5ib6boWAJpw7dq19evXv/POOz0oCDdv3txhdQDQw8XW1G5+UuTI5e5wddJ1LQA0JpfLuVyurqvQGrrrmDNnDkIoKytL14UA0M6qCcL+Thx+9ea16hpd1wK6gLi4OITQkiVL1G/79u07bty48+fP+/v7c7lcExOTsLAwkUik3ioSiT755BMnJyc2m21jY/P+++/X1tbWnyo1NTUoKMjY2FhPT2/IkCGnTp2q3zRw4MARI0bcunWrf//+Dg4Ofn5+9cExY8aMjvy+2tZcZ5kpU6Zs27ZN20kMAFiamfNYrvjMwW6EkaGuawFd0r1792bNmhUUFHTq1Kng4OD9+/d/9tln6k3z5s3bvn37tGnTfvrpp0mTJoWHh9c/z0pISPD39799+/bSpUu//PJLmqaDg4M3bdpUf9r8/PyxY8fa2dm9++67mzZtmjZtGkLo119/XbVqVcd/Ry1qJiQRQvPmzat/u3HjRj8/P20nczPgihB0S/uKS9DVm6/dT1BSlK5rAV3Di1eECKErV67U7+Dt7W1nZ0fTdG1tLYZhy5cvr9/07bffcjicp0+f0jT9+uuv29jYlJeXqzeRJDl69Ggul1tTU0PT9MCBAxFC27Ztqz923bp1CKG8vDytf8OO1YLhEwUFBfHx8doIYwB6rFyZfGV2Hp/BOCLsw4LxEqC1HBwcRo0aVf/Ww8OjpKQEIUTTNJPJPHPmzK1bt2iaRgitXbtWLpdbWlpmZGTExcXNnDmTy+WKxWKxWCyVSmfNmiWXy+/evas+j0AgeO+993TyjToSjCMEQGdUND0nLVNEkttcHPvo8XRdDujCTE2fm5mdyWQSBIEQMjQ03LVrV1VV1dChQ83MzAIDA8PDw+vq6hBCaWlpCKGffvpJv4GFCxcihEpLS9XnsbGxYfSASf5ghXoAdGZD/pM7daKpvUzDrCx0XQvo2rCX304ICwubNm3ahQsXYmNjL1++HB0d/d133929e1edlCtXrgwKCmp0iKurq3bL7WQgCAHQjVu1dRsfF9pw2HvcXHRdC+i2CgoK4uLi3nzzzeDg4ODgYITQ4cOH586de/r0aV9fX4QQQRBDhw6t3//Ro0dXrlzpaUEIt0YB0AExSb6TnkXT9EF3V1MW/D0KtOXJkyfTpk2LjIysb3FxcUEIsdns/v3729nZHT16tKysTL1JJpMtWbJk48aNBgYGTZ5Nfd2pftbYnbziX2BeXl79hGo5OTkIoUbzqyGYWQaAlnsvMzdbJl9jZ/OGcbeaoQN0NoMHD1ZPxhYXF+ft7V1SUhIeHm5jY/P2228zmcydO3dOmTLl9ddfnzVrFpvNPnnyZHp6enR0NI/X9BNrc3NzhNCGDRtmzJjx1ltvdexX0aZmepS2/QztC4ZPgO7hVFkFunrT694DGUnquhbQJb04fKLR2LbZs2fX/3IuKiqaNWuWubk5g8EwMTGZMmVKenp6/Z7Xr18fNWoUj8czNDQcMWLEhQsX6jcNHDjQzc2t4WnLy8v9/f1ZLNbixYu19d10AaNfHnhbtmzRJAhXrlypYWS2UWhoaERERFZWlvrSHoCuqFCh7Hv/oZSk7vn19ebr6bocAECzt0Y7LOEA6CEoGs1Ny6wiVDtcnSAFAegkNOosQ1HUyzadP3++/YoBoJv74Unh1ZracSZG79lY6boWAMAzrwjCHTt2ODg4MJlMOzu7n3/+GSH0559/BgYGDho0qF+/fnZ2dhMmTOiQOgHo8h6IxF/lPzZjsX5zd4UpZADoPJq7NXr06NFly5axWCwfH5/i4uLVq1dnZWXt2bOHJEkcx/l8voGBwYABAzqsVgC6LilJzU7LVFL0Pk8XSzZb1+UAAP7TXBDu3LnT2Ng4Li7O2dmZoij1asgCgeDEiRNjx45lsVgdViUAXd2qnLx0qew9G6sAUxNd1wIAeE5zt0aTkpICAgKcnZ0RQjiOf/rppwihkJCQCRMmQAoCoLnzVdV7ikuEerz/c+qt61oAAI01F4S1tbVmZmb1bx0cHBBClpaWWi8KgG6kTEnMT89iYthBYR89BszlBECn04K5ndRzkOM4/EsGQFM0QmEZWaVKYpNz79f1BbouBwDQBEg1ALRoW2HxH5XVw40MPrS11nUtAICmQRACoC2pEumnuQVGTOZh9z4MWHQXgM7qFbdGk5KS9u7d27DlwYMHjVrUCzkCABpSUNSstEwZRe13d7XncnRdDgDgpZqba7SZlR4bauYM7QvmGgVdyKrsvC2Fxe9Ymh9w71lLuwHQ5TR3Rbhnz54OqwOA7uTv6pqthcVOPO5WFydd1wIAeIXmghDueQKguWKFMqK0/LFCYc5i/lpcwsCwCGEfAyZD13UBAF4BlsYGoB1crKoJSkkXk2R9S5ilxSADfR2WBADQEPQaBaCtRCQ5Nz2zYQoihP6uqVG8fNkWAEDnAUEIQFvdqKkrVRKNGp/IFfdEYp3UAwBoEbg1CkBrEDSdKJbcqxPdE4kvVdU0uY9IRTbZDgDoVJoLwkOHDgUEBBgbG3dYNQB0ZtkyuTr57tWJHool8n/vfHKbmkEUR8hHwO/YAgEArdHcrdH33nvPwsLizTff3LVrV0lJSYfVBEAnUacib9bW/fC4MCApzeL2Pdd/4menZW4tLL5TJ7LmsEMtzLe4ON7w9a4ZMnCJdePJ6Ffb2dhyYN1B0K3IZDKBQJCQkNCwZdGiRSYmJsbGxmFhYXV1dRqeSiwW8/l8ExMTpVLZoq1SqfSrr75yc3PjcDjm5uaTJ0++du1aa7/QM81dEZaXl1+4cCEqKmrt2rXvv//+oEGDgoKCAgMD1ctQAND9EDSdKZXdqq27WSuKF4vTJNL62SKs2OxJpiZ++nw/fcEQAwMT1nP/dra6ONpw2DuLSp4qlbYc9nJb61UwuSjQORWBmO22ZF5VVdXnn38ukUgaNr7//vuXLl06ePAgh8NZtWrV/PnzIyMjNTlbZGSkUqmUSqUXLlwICAjQcKtUKh01alRmZuaqVav69u1bUVFx7Nix0aNHnzhxYtq0aa3+as3NLFOPIIirV69GRUWdOXOmpKSkf//+gYGBgYGBQqGw1R/cCjCzDNCGYoXyVl3dzdq6eJEkXiSuv+EpYDD6Cvh++nw/gcBPX+DJ19PkbAqK4sAKLUC3SJK8cZW8eY0W1WECfdx/KHPUmDYm4po1a3766Sf164cPH/br1w8h9PTpUzs7u5MnT06dOhUhdP78+YkTJxYWFlpbv/qvwLFjx+rr6yclJb3++utHjx7VcOvq1av37t177949Nzc3dQtN00FBQffv3y8oKNBwNrQXaRSE9SiKunXrVlRUVHR0dEFBgbu7e1BQ0DfffNO6z24pCELQLkqUyjiROF4kjhdJ7tTVVRIqdTsDw9z0eH4CgZ8+f6ihQT8BH2bKBl2R6o/T5PUrDVsYAwYxg0Lacs7CwsKKioqMjIyZM2fWB+GJEydmzZpVV1fH5/MRQlKp1MDA4MCBA6GhoSkpKZ6envWHi8Xi8vJyR0dH9Vt1gh48eDA+Pj48PLysrExP778/NF+2ValUmpqarlixolHo5OXlxcbGzpgxg8fjte7btazXKI7jw4YNGzZs2ObNm+Pj46OioiIjIzssCAFoSEKSjxVKew6bz3jF7C0SknwolqiTL14sTpVI6zfV3/Acamgw2MAAFs4FXQhdVdlEo6iOvHG1USN57w7u3Q/rZf7i/pixCdLgDz5bW1tbW9tGjTk5Oebm5uoURAjp6ekZGxuXlJQoFIpx48ZNnTp1+/btCCGpVDpx4kQOh3Px4kX1nkePHmUwGJMmTbKxsdm8efPZs2dnzpxZf9qXbU1KShKLxaNGjWpUhqOjY33Etk7rh0/4+fn5+fl9++23bfl4AFqhTkWuzsnb/7SUQghHaJ6l+c8ujkbM/36YSZpOl8riReJ4sTheJIkTiZTUszsf+gzGEEMDdWuhQbAAACAASURBVPINNzS0YLfbExQAOpjy/75GGk/aQOzb2WQ7Z/0mxOW2rgCRSNToIkwgEIhEIg6Hc/bs2TFjxrBYrG+//TYgIKC0tLRhl5aIiIgxY8YYGhoOHTrUxMTk2LFjDYPwZVsrKioQQiYmJurdYmJiGj4+PHnyZHBwcOu+CIwjBF3P4szsE2UV6tcUQgdKympJcruLU7z42Q3PW7V11apnNzyZGNZHj+cnEAw11B9iaCDU08PhfifoFnDvfuiFZ1u0REznZL24M+bojOkbNHGWV91QaYaRkZFUKm3YIpfL1UHVv3//ixcvjhkz5tSpU1wu99q1a5aWz3pWp6amJiQkLFu2DCHEZDLHjx9/8uTJ6upq9VC9ZraqLz3LysrU5xk+fPjDhw8RQgqFwt/fv9XfAkEQgi4nTSqrT8F6UeWVUeX/3SZy5fEmmBoP0NcfYCDwFfCh9wrolliz3mmilSSV//c1XV3VsA0T6LPnL0Wcdl4X09rauqKiQiaTqa8LFQpFeXl579691Vu9vb19fHxu3LixZMmSht1nDh8+jBBavHjx4sWLEUI0TVMUFRUVtWDBgua3enp64jj+zz//jBs3DiFkYGCgflSZmJjYxi8CvyBAF5MllTXZ3l/AX9/b/ryPR+WQgZkD+0cI+yy3tfI30IcUBD0Lg8EMmYca9D1BXC5zZmi7pyBC6M0330QIXbnyrGPO5cuXcRwfPXo0QkipVAYGBhYXFx87diwiIuKjjz5S70PT9LFjxyZOnJjwr8TERDs7u2PHjr1yq7Gx8YQJE3bu3FlT89xcTps2bWrjF4ErQtDF9GI1/VTvJxfHkUaGHVwMAJ0Q7uDIXvMF9TCOrqzAjE1w39eavinaZhYWFsHBwcuWLcMwTCKRLF++fNGiRQYGBgRBBAUFpaWlxcbG2tnZWVlZTZgwgcFgfP/999evXy8oKAgPD/fy8qo/T2ho6Pfff19SUpKRkdHMVktLyy1btgwcONDf3//DDz90cXEpKirau3dvVVWVmZlZW77Iq/9YjouLi4iIuHLlSqN7wQDohCmLyXnhKZ+7Hm+wgVb+qQPQFWF8PmPoSObbwYzho7WUgmp79uwZMWJESEjI0qVLg4KCNm/ejBBiMBhCofDq1at2dnYIoREjRsTExNjY2CCEjhw54uTkNHbs2IYneeeddyiKOnHiRPNbEULOzs4PHjwYMmTIunXrxo8f/8UXX/j6+t64cWPgwIFt+RbNjSOUyWSTJ0++dOmS+q2Njc2+ffvUN2d1AsYRgpu1dVOT0ysIwpDJqP13SmtHLve0lztM7AkAaJ3mbo1+//33ly5dGjZsWEBAQGFh4e7du6dOnZqdna3JrAEAtLsDJWVLM7MpGv3i6rTAyuJ8VXWuTOHI44w3MebCg0AAQGs1F4QnTpxQX94yGAyEkK+v7/z582NiYtSdeQDoMDRC6/Mfr89/os9gnPByG29ijBCaItCjVQpMoIcgBQEAbdBcEObm5oaFhTH+HWUyefJkhFBRUVFH1AXAvxQUFZaRfbS03JHLjfEWevD1kFymOhtJPohDNI0wjNHvNebbQYin0VygAADQSHNBSBCEQCCof6seJkmSsNYo6DiVhGpKctrN2rqBBvpnvITqiWCIU8eopH8XgqFp8mEcrZCz5i7UZKYoAABoBO4pgc4rRSJ9LT7hZm1dkJnp1X5e6hSkS0v+S8F/UalJ9FO4VwEAaA0IQtBJXaquGfowKV+uWG5r9buHO+/fB4F0ZXmT+9MlxR1YHQCg+3jFgPqMjIzjx483bElNTW3U0nCyVADaxf6npUszc2iEdvZxXtpw8XdCSTU1jyJCiIg8jic/wr37MoReiNvK1VgAAD1Qc+MINVzksEUrGrYFjCPsCeo7iBozmZFe7qPqJ4tRKsh7d8jYy3RdLcIQavRDJxBgXD26ogwhhHAct++Ne/fD+/lhAv0Orh8A0OU0d0WoniMAgA4jp6j56VnHyyqceNwYbw+hHg8hREsl5K3r5O1YJJUiNocxZATu1VcVdZwufzYJPdbLjBW6ELO0okufko8SqLRkKj+Xys9Ff5x+loh9+2t1cg0AQJfWshXqdQuuCLu3EqVyclJanEjsb6B/xktozmbRYhF55yZ58xqSyxCXy/AfyhjxBqbHRwghkqQy0+iqSszEFHd1R8zn/qSjqyqp1CQqKYEqyFMPscAdHHHvfri3L2YI85ECAJ7T3BXhlClTRo8evXz58lafXalUhoeH3759m6bpQYMGLVy4UE+v8WAvsVi8d+/euLg4uVzu7Oy8YMECNze3Vn8i6KKSJdJJSakFcsU0s14Hha7c2hrVX1fJe7cRQWB8AT5mPHPoSNRwCVAGAxd6vexsmIkpY+hIxtCRdHUVlfJInYhUfi46F4VZWOLevgzf17BebZqlFwDQbbziGeG8efN+++039dvvvvsuMjLy/v37mp9927ZtCQkJS5cuZbFYe/futbW1/fTTTxvts2HDhsLCwvnz5+vp6Z06dSo3N3f37t0Nxy/WgyvC7urv6pppKem1KnK5rdXPxob0rWvkP7eQSoXpGzCGjmQMGY5Y7DZ+BF1TTSUnUukpVE6WelHvZ4nYrz9mZtEeXwIA0FW1YBmmgoKC+Ph4zfevrq6+cuXKJ598MmDAAIRQWFjYhg0bqqqq1APz1aqqquLj49evX69eX9HFxWXOnDk3b9586623NP8g0KXtfVr6XmYOhqHfrMxmx99SJcQjisJMTBlDRjD8hyBm04sutRRmZPzsGlEiodJTqKQEKjONvHSevHT+WSJ6eGE2du3yWQCArkWL6xEmJyfTNO3r66t+6+XlhWFYYmLiqFGj6vcpLy83MTGpvxfK5/P19PQaLboIuqv6DqImDPxEacGwP0+QNI1ZWDFGvMHwfU1LM4hifD7DbwDDbwCSSsm05OcS0cQUF3rhPr64gyNMUgNAz6HFICwpKTEyMuJyueq3HA5HIBBUV1c33MfNze3AgQP1b+/cuSMSiVxdXetbysrKHj16pH5dV1fHZMJKwt2EhCRnp2WeqahyUimjr192k9RhVjaMYaO0F4GN6ek9S0SZlExNptJTqPQU8lYseSsWMzbBPbwhEQHoIbSYKzKZjM1+7tEOl8uVyWRN7kzTdExMzG+//ebv7+/n51ffnpKS8r///a/+LY8HA6W7g6dK5eS4h/cJlX9Nxan4m+bWNoxpM3F3T92kDu/fRCSUVHYm9eghmfzoWSIaGeOePrjQC3d2hTUuAOiutBiEfD5foVA0bCEIQl+/iQHOhYWFW7Zsyc3NnTZt2vTp0xtucnNzW7t2rfr1/v37668OQVdF04nJSQElFU9YnGlPH++rLefPW4S79NF1WQghhFhsXOiFC72YgQSVnUE9ekimJj1LRD4fd/PAfXzxPkL073osAIDu4RVBmJeXVz+hWk5ODkKo0fxq6OVTrJmYmNTV1SmVSvV1IUEQtbW15ubmjXZLSkr65ptvXF1dt2/fbmNj02irtbV1YGCg+nV0dDRBEK/+TqBzomkqKeH8P3dnOQpFTPZHtRXfDx2M2znouqymsFjPElFFUFkZVFoylfyIfBBHPohDenoMd8+XJSJdW0PXVGMmpjB+H3RLMpnMzMzs5s2b6u6N6pbly5dHRkbSND116tQtW7YYGGj0wy8Wiy0sLDgcTklJSaN7h1KpdNOmTceOHcvPzzc0NPT39//www9Hjhyp4eGt8IogvH79+vXr1xu2hISENNrnZUGo7ibz6NGj1157DSGUmJiIYZiPj0/DfZRK5Y8//jhkyJBly5ZpOKMb6HpIkkyIJ69c2MvTX+H5GgOhg1a9QkcN1XVZGmA+S0Q0ZTr1OJ969JB69PBZIvJ4DKEXLvTC3T0Rm02LRapTx6i0ZPVxuI8vK3AGLJEIdKhYocyTyx24XFtOW3NCraqq6vPPP5dIJA0b33///UuXLh08eJDD4axatWr+/PmRkZGanC0yMlKpVEql0gsXLgQEBNS3S6XSUaNGZWZmrlq1qm/fvhUVFceOHRs9evSJEyemTZv2ysNbR4tTrBkZGQ0ZMmT37t0IIYVCER4ePm7cOPWA+nPnziGEAgICEhISampqBg8enJaWVn+gmZmZmRkMdu4WlEry3m3y+hVVXe06t74/OrqZMPEoL48RRl1tehccx3s74b2d0KSpzxIxKeFZIrLYuEsfuqqCLi2p35169JAgSdbchTosGfRYVYRqaWbOyfIK9dtJpiZ73Jwt23bZtGbNmp9++qlR49OnTw8dOnTy5El1FP34448TJ04sLi62trZ+5QkjIiICAgKSkpKOHTvWMMm++OKL9PT0e/fu1Y8mCAsLCwoKWr16dXBwcP310ssOb53mBtTTNN3GqzSZTBYeHn7nzh0GgzF8+PAFCxaou32qH/tt3Ljx999/j4iIaHRUSEjIi9edCAbUdy0yGXn7OnnrGi2RiLl684e9eY7JceFxY7w93PS6RY8nmqbyc6nkRCo5ka6pbnIX9odrMQvLJjcBoD1Tk9NPV1Q2bBltbPi3jxfehl/nhYWFFRUVGRkZM2fOfPjwofrW6IkTJ2bNmlVXV8fn8xFCUqnUwMDgwIEDoaGhKSkpnp6e9YeLxeLy8nJHR0f126dPn9rZ2R08eDA+Pj48PLysrEx9jaRUKk1NTVesWPHNN980/PS8vLzY2NgZM2ao+0u+7PBWa+6KcNiwYXv27BEKha0+O4/HW7FixYoVKxq1b9y4Uf1i+vTpjXrHgK6OlojJm9fI2zfUE4SWjhoXaGoVL5ENMTQ47eXei9U+A+R1D8NwR2fc0RlNmkpevqj6+48Xd6GrKiAIgfacKq+kG6/DgooUykYpiBC6Ul373ZMnfZrqdT+llylLgwseW1tbW1vbRo05OTnm5ubqFEQI6enpGRsbl5SUKBSKcePGTZ06dfv27QghqVQ6ceJEDodz8eJF9Z5Hjx5lMBiTJk2ysbHZvHnz2bNn1Y/YkpKSxGJxw7Hmao6OjvUh2szhrdZcEN66dcvX13ft2rWffvopq9v8/gJaQ9fWktcvk//cRoQS0+Mz3pyQ0m/ApMzcJxLZO5bmu/u4sNvyF2mnhWGYk1PTWwy62h1g0KWEpGaoNF414fPcx0221w71ZzFb2RFaJBI1GtImEAhEIhGHwzl79uyYMWNYLNa3334bEBBQWlp67dq1+t0iIiLGjBljaGg4dOhQExOTY8eOqZOsoqICIVQ/+1hMTEzD254nT54MDg5u5vBWay4Iz549u2LFinXr1v3+++979+719/dvyyeBboyuriJvXCX/uY1UBCbQx0e8wRw28i+pfEZqhkhFrutt91Vve13XqEW4gxNmaU2XFDdsxPgCzKpxL2gA2tFGJwfqhSAsViq3FT59cedF1hbO/05v0hCnDX+eGhkZSaXShi1yuVwdY/3797948eKYMWNOnTrF5XKvXbtmafns7khqampCQsKyZcsQQkwmc/z48SdPnqyurjY2NlZfXJaVPVthbfjw4Q8fPkQIKRSK+gBq5vBWf5HmgjAgIGDMmDHffffdpk2bhgwZ8t5773333XdNTocNeiy6soKMvUTG3UUUhRmbMIaOZAwcglisrYXFq3PymRh2WNhntkV37/rEYLDmzCcO76dL//0FxGLTErEq6jgzKATmpgFa8pFdE39p0QjF1Ynv1IkaNnrz9X5xddbkFmiLWFtbV1RUyGQy9XWhQqEoLy/v3bv3sw/19vbx8blx48aSJUsadp85fPgwQmjx4sWLFy9GCNE0TVFUVFTUggULPD09cRz/559/xo0bhxAyMDBQP4xMTEzU5PDWfxNaA9nZ2ePHj0cI2dnZnT59Ou95mpyhXcyZMwchlJWV1WGfCNSomhrV338Sxw8Rf52jKsqeNRYXEccPyf+3Qv7xMsX3X6nu3qJVKpqmVRS1LDMHXb1pevPu9ZpanRbesUiSzM5Uxd0hc7NoiVixdZP842XEyaM0Rem6MtCz5MnkfvcT0NWb6v+87j1Ik0jb5czq67OHDx+q35aUlDAYjJiYGPXbP/74g8Vi1dbW0jStUCgmTJjg7Ox87NgxPp+/Zs0a9T4URTk4OEycODGpATs7uzfeeEO9w6RJkywtLaurqxt+7qxZsxBCJ0+efOXhraPRzDLOzs5//vlnVFTUnDlzpkyZ8mKUtj6HQadH5WYTB3Yj5bNJgsjrV5lvjKMe51PpKYimMUtrxvDR9ROEikkyJDUzprLKlcf7w0fo2qOmxMNx3NkVoWcz5bIWvEuEbyfj7iAMMQNnwnUh6DC9uZx7/fveqqvLkckduJxhhgZM7fz4WVhYBAcHq0eBSySS5cuXL1q0yMDAgCCIoKCgtLS02NhYOzs7KyurCRMmMBiM77///vr16wUFBeHh4V5e/60nGhoa+v3335eUlFhaWm7ZsmXgwIHqQfQuLi5FRUV79+6tqqpSj6l75eGt+yKaTrGWkJDw448/ymQyLy+vhp1iQfujaSo3m64sxwyNcGfX9lqHqJVIUnX8UH0KIoSQilBdiEEIYda2zFFjce9+9b/iixTKgKTUh2LJG8aGpzzdjXr2DOkYX8Ba9AERvoO8dwdhGHPqDMhC0GFwDA0zNBhmqPUZjvbs2bN8+fKQkBAmkxkSEvLzzz8jhBgMhlAo3LFjh52dHUJoxIgRMTExycnJCKEjR444OTmNHTu24UneeeedjRs3njhxYsWKFc7Ozg8ePFi/fv26deuqqqqsrKymTJny1VdfhYaGanJ4675Fc+MI1Wpra7/88stffvmFzWZ/+eWXa9as0dUSED1hHCFdW0sc2kMXPuvfhZmYsuaEaXGdPJUKEUpaJkOEEhHEfy/kcqRUIIKgykqoh00sxcwcO54xZnzDlkSxZFJSaqFCGWZlsatP+z+N6KJoUR2xeztdXsoYOpIZEKjrcgAATXhFpB05cmTNmjUlJSWjRo0KDw/vxgnUSahOHK5PQYQQXVVJROxnr/oUNTkrBEkipYKWyxFBvCTPZEipRARBK+RIoUCEklYokEKOCIJWKpFchlp9W9u0V8N30RWVc9IyZSTV7TuIthSmb8BasozYtY28eQ3hOHNi4ycLAACday4IR44cGRsba2xsvHfv3jZ1yAGaoSvLqZzMxo1VlcTeXxGP2/BC7VmeUVSLP4PBQGwOxuVi+vrIxBTj8RCLjVisZy+YLIzHQ2w2YrEwDhdxODSpUh3e/+IH4Tb/pd3WwuIPs/PYOH7Eo0+IeXfvINpymL4Ba/EyInwbef0KwnDmhMm6rggA8JzmgjA2NjY4OHjHjh0WFhYdVlBPRotETbZTBbnPXuE44nAxDgcTCJCJKcblIhYLsTkYl4dYLMRiYTy9Zy+46jxjY1wuYnMQi4VxOIjDbc2iemPGqy7+O20KjRCGGIOHY+YWCCGSpldk5/1S9LQXixXt5T5U+w8kuijM0JC1eBmxexsZewnhGPOttk6NCABoR80F4ZkzZyZPhr9eOw5mYoow7MXblcyZoQx3T8Tm6GQlPMboN5G+PnnzGl1ZgRkZMwYOYQwZgRASkWRIasYfldWefL0Yb4/eXE7H19aFYIZGz7Lw6t8Ix5lvTtR1RQCAZ5oLQkjBjlZXizGZ9PNrLuIOjoy+frpcHh3DGAMGMwYMbthWpFBOSkpNEEvGGBud9HTr4R1ENYQZGbOWLCd2byMvX8BwvFFvIwCAruju1yt4HpWZrgzfTqtUuJ19fT973N2TOTtMlyn4rwyp7I/K6mSJlEboXp34tfjEBLFkgZXFnz4ekIKaU2chZmKq+vs8efkvXZcDAEBI83GEQKvIuLuqqOMIx1kh8/C+/ZFMSleUIyPjzrDQeTlBzE3L+qvq2UpDQj29fIVcDh1EWwszMlbfI1Vd/BMhjPHGOF1XBEBPp/tLjZ6OplV/n1edOoo4XNbC9/C+/RFCiKeH2Tl0hhRECL2T/l8KIoTSpFIFRUUI+0AKthpmbMJa9D5maKi6+Ad55aKuywGgp4Mg1CmKUkWdIC+dxwwN2UuW446dbphmulT2Z2XjVWcpGllx2rTaNcBMzViLl2MGhqoLMeTVv3VdDgA9Gtwa1R2lgog4QGWkYpbWrLClmKGRrgv6j4QkE8XSh2JxzAspqPZYrmiyHWgO62XGWrKM2L1d9dc5hGGMkWN0XREAPZRGQSgWiz/77LPo6OiSkhLi+T6NCCbdbhVaVEcc2E0XPcFd+rBCF6Km1gnrSJWE6qFY/FAseSiSPBSLM6Wy5sfq23FgsEQ7wHqZP3te+Nc5xGIzhgzXdUUA9EQaBeHy5csPHDjg7e09ePBgXU002p3QpSXEgV10dRWj/wBmcIhORgcWK5TxYnGqRJoikcWLxWkSaf2fM2wcc+fr+QkEfvp8P33B+vzHl6prGx7bX18wzKhTPL/sBjAz82fXheci1ZMV6LoiAHocjVLt9OnTixcv3r17t7ar6QmogjzVwXBaImEMGcEMCOywFQnUyRcvEseLJHEiUanyvyt7AyZjsKGBnz7fTyDw5Ot58/nsBotWHxb2mZ2WeeXfLBxgIDgqdIM5tdsRZmahno9UdTYSYRhj0DBdVwRAz6JREEqlUhhc3y6o5ETi+CFEksyp0xn+Q7X3QSqazpDK4kXieLE4VSJ7IBZXEar6rVZs9hhjIw8+z08g8NMXePD1mok1Szb7cl+vJIk0Ryaz53D6CQQ4hGB7w8wsWAvfJ/ZsV505hTBMqz8bAIBGNArCvn37pqenT5wIk0K1CXnzmiomGrFYrLkLcaHXqw9oCSVFZ8meJV+8SPJAJJY1mCnbis2eZGqivtX5ur7Assm1LJrlzdfz5uu1a8ngOZiVtXr9QtXpkwghyEIAOoxGQbhu3bo5c+b0799/1KhR2i6oe6Jp1flzZOwlTI/PfGcx7uDYzL4Xq2p+KizKksptOewFVhZzLc2bvACrVZFJEon6Vme8WJwhlZH/9lpiYlgfPZ6fQODJ53nw9QYbGJiy4MluF4BZ2bAWfaDcs111+iTCcMbAwa8+BgDQZhr9fty2bRtCaPTo0Q4ODqamptjzz4fu329i4VbwH5WK+D2CSnyAmfZihb2L9WpuoaKDJWXvpGepX+fJ5Tdq65Il0v9z7o0QKlYoU6XSFIlUnXwNu7ewMMxNj1ffvcVPX8DrBLOygVbArG3Yiz5Q7tmhij6BWCxG/9d1XREA3Z9GQVhSUmJvb29vb48QIklSyyV1LzIpcXAPlZeD2Tmw5i/B+IJm9pWS1LKs3EaNPz4pihOJM6SyEqWyvrH57i2gS8OsbdkL31fu+UV18gjCEMMXshAA7dIoCBMSErRdR7dEV1cR+3fSZaW4hzdr1jzEesWTuSSJRESS6jX/GoqtqbXmsCeaGvsKBL4Cvq8+31HX4w6BVmE2dqz5S4j9O1W/H0EIY/i+puuKAOjO2nQDLTY2dswYmA6jaXRJMbFzC11Wynh9ECt0wStTECHEVN9zfuHSbquLU9Gg12O8Pb52tA80M4UU7AlwB0dW2LuIxVL9HkElxOu6HAC6M42uCGma3rx586VLl5QN7s4hhPLz88vKyrRTWNdGZWUQEfuQQsEYM545VtNl53wEfEs2u+S5/8k0F2e83ctEG0WCTk6dhcS+ncSJwywMezYhOwCgvWkUhDt37ly9erWZmZlSqayrq7O3t5fJZGVlZdbW1jt27NB2iV0OGX9PFXkMIcScEdqim1osDOuvL/izsqpBG/aDU28HWPy9p8J7O7EW/JuFTCbu6aPrigDohjS6NXrgwIGRI0cWFxenpKTQNH3u3LnS0tKLFy8qlcqBAwdqu8Suhbx2SXXyCGIwWe8sbumjnUMlZX9WVjlxuQutLN8wNpxvaX7d13u5rZWWSgVdAt7biRW2FDEYxJEDVGqSrssBoBvSKAgzMzOnTp3KZDJtbGx69ep1+/ZthNDYsWPnzJmzYcMGLVfYdVCUKvp31fmzmECf/e5KvI+wRUffrRMtzszRZzBifDz2uDlf6uu13911mCFM6QkQ7ujMmrsI4TgRsZ9KS9Z1OQB0N5p2lqH+nabEwcEhK+vZQLeRI0f+/TcspYYQQkipJA7tJe/exCysWB+sxqxtWnR0qZKYlpJOUNRRjz5CPZ6WagRdF+7qxpq3CGE4cXgfZCEA7UujIPTy8jp16pRKpUIICYXCGzduqNuLi4vlcrkWq+siaKmE2PsLlZaMO7uy312JGRm36HCCpqenphcqlF852k8yhX4xoGm4q/t/WZieoutyAOg+NArCFStW3Lp1y8HBIS8vb9KkSffu3QsODt6wYcPnn38+aNAgbZfYydGVFcQvP1MFebh3P1bYUsRr8fXcyuy86zV1b/cy+czeThsVgm4D7+POmrsQYRgRsZ/KytB1OQB0ExoF4fTp048dO+bn50fT9PTp02fNmhUZGblu3TojIyP17Gs9FvW4gPjlZ7qinDFkBGv2fMRktfQMh0vLfi166qbHO+jeByaHAa+EuwlZcxcimiYOhlM5mbouB4DuAGvd+vI5OTnV1dXe3t6cDlypPDQ0NCIiIisry8XFpcM+tBlUahJx9CAiVczJQa1bQ+6hWDLkwSMmht3t7+MBazsAjVHpqcThvQjDWfOX4M6uui4HgK6tBTPL1NbWXrhw4dChQ6WlpQKBwNPTsyNTsLMh790hDu9DNMUKmde6FCxVEm8npckp6oC7K6QgaBHc3YMVMg9RJHFgN5WbpetyAOjaNA3CTZs2WVpavvXWW/PmzcvKyjp27JiDg8OZM2e0WlwnRdOqv8+rIo8hLpe16APcx7cV51DR9IzUjCcKxZe97YLMTNu9RtDt4V59WSHzEKkiDuymcrN1XQ4AXZhGQRgZGfnJJ58MHjx479696pbRo0c7OztPnTr14sWL2iyv8yFJ4vhh8tJ5zMSU/d6HeG+n1p3mw+y82JraAFOTLx3s27dAKUoQqQAAIABJREFU0HPg3v1Ys95BKhVxYBeVB1kIQCtpFISbN28ePHjwpUuXZsyYoW7x8fG5cuWKu7v7xo0btVleJ6NQEL+FUwn3MVt71vsfYmbmrTtNRGn59qKnffR4h4Su0EEGtAXu3Y8VMg+pVMRv4dTjAl2XA0CXpFEQPnz48O233260Hi+Px5s2bVpiYqJ2Cut06Lpa5a4tVGYa7urOXrwME+i37jwJYsmSzGwBgxHl6W7EhIXjQVvhPr6smXORUkns+5V+AlkIQItpFIRsNrumpubFdrlc3mg9iu6KLn1K/PIzXVzEeG0ga/4S1NpeQpWEKjA5XUZSB9xdPaGDDGgneN/+zKAQpJAr9/1KFz7WdTkAdDEaBeHo0aMPHjxYUVHRsLGkpOTYsWP+/v7aKawToXKylL9uoWtrGGPGM6fNRgxG686joulpKel5cvnnDnbB0EEGtCvGawOZwSFILlfu/QWyEIAW0SgIv/nmG7FY3K9fv6+++gohdOrUqQ8++EAoFD59+nT9+vXaLVDXqKQEYv8upFQwp87QfGXBJn2Uk3+1pvZNE6N1vWEGGdD+GK/5M4PUWfgrXfRE1+UA0GVoFIRCoTA2Ntba2vqnn35CCG3duvWXX37R19c/ffr00KFDtVyhLpE3rxFHDiAcZ81bzBg4uC2nOlpavqWw2JXHO+HhxsCghwzQCsbr/szAmUguI/btpEuKdV0OAF2Dpp01+vXrd+/evYyMjLS0NIIgHBwc+vfvz+zGfT0oSnU2krxzA9M3YM1fgtm06RouUSxZpO4g4wUdZIB2MQYMQohWRZ0gwncwg0Kogly6tgYzNWMMHIwZGum6OgA6o5b9UnZzc3Nzc9NSKZ2ISkWcOEw9eoiZmrEWLMVMzdpysipCFZiSLiOp4x5uXtBBBmgfY8BgpFSqzkURh/bUN5I3rrDCluKOnWJ6QgA6leaCUCAQaHIKsVjcTsV0DlIpcTCcys/F7Xsz31mC8fltORlJ07PTMnNl8rUOttPNe7VXjQA0D+/nh86fRSrVf01Kper4YfbHX7a6txcA3VVzQSiRSBBCbm5ujo6OFEWRJNlRVXUsiqJrazB9fcRk0VWVxL6ddEUZ7t2PNTO0FatJNPK/3IK/qqrHGhtt6A0zyICOQ+dkPZeC6saaarq4ELNz0ElJAHRazQXhiBEjbty4kZGRoa+vP3PmzOnTp9vZda/ujhSluvwXef0KUioRjuMubnTRY1oiYQwdyZw0FbW5S0tUeeVPT4p6czlHPfpABxnQkWiCeFk7/CAC0EhzvUavXbtWWFi4ZcsWFov10UcfOTg4DB06dPv27SUlJR1Wn1ap/v6TvPQXUs8JQFFUZhotkTDeeIsZENj2FHwklsxNz+LieKSney9WW68sAWgR3Lapv1mZTNzKusNrAaCze8XwCSsrqxUrVty+fTs/P/+HH36Qy+XLly+3sbEZPXp0eHh4ZWVlx1SpFXIZGXv5xWbcvnfbz12tUgWmpEtJ8oC7a399jR61AtCOMEvrF1cHw0zNEIerk3oA6Mw0XYbJ3t7+o48+un//flZW1oYNGyoqKpYsWWJpaTl+fJvGmOsQXVWJmnrqSZeXtvHMFI1mp2bmyOQf2dvMgA4yQEeYAYHMSVMxcwvEYmNWNlgvc7r0qerPHrl0GgDNavGYNhcXl88++ywwMPDLL788derUX3/9pY2yOgLvJSMZ9NrUTRQhtDav4HxV9RvGht86Qq8EoDsMBmPYKMawUep3tFRC/LKZvHEVMzJmDB2p08oA6FxasEI9Qig3N3fjxo19+/b18PCIjo5W3yDVUmXahhmb4E6Nx1RhfD7u7tmW00ZXVG56XOjA5Rz3cGNCBxnQaWB6fNaCdzGBviommkpK0HU5AHQiGgVhYWHhzz//PGDAAGdn588//5zP52/btq2oqOjy5cuLFi3Sdonaw5wRiplb/PdeT485c15bBg6mS2XvQAcZ0FlhJqas+UsQi0UcP0zl5+q6HAA6i+ZujZaVlZ08efL48eO3bt2iadrX1/eHH36YOXOmvX03GRKHGRmzV/6PSkumy0qRgSHu4YW14b5otUoVkJRapyJ/c3f1gw4yoFPCbO1Zs+cTB/eoDu5hvbeq1YtLA9CdNBeE1tbWJEkKhcIvvvgiKCjI2dmZpmn0wlQyGk5A00kxGLhX37afhqLRnLTMbJl8tZ3NPEv45QI6L9zdkzlluirqOLF/J+v9D1u9xDQA3Qamzramt2n2iKuZM7Sv0NDQiIiIrKwsF5dON1/iZ3kFGwsKRxsbXvDxhEeDoPNT/XmGjL2M2dqzlyxHbLauywFAl5q7IpwxY0aH1dGlnamo+q6g0B46yICugzl+MhLVkQ/iiCMHWPMWIbxl/eYA6E6aC8Ljx493WB1dV4ZUNjc9k4PjkZ7uZtBBBnQVGMYMnkXX1VLpKarTvzMDZ+q6IAB0Bv4MbBMRSU5NTqtTkb/2cX4NOsiAroXBYIUuwCytyX9uNznLEgA9BARh61E0mpWamSaVrbS1ng8dZEBXxOWxwpZihkaq82fJh3G6rgYA3YAgbL2v8h/HVFYNMTT4wam3rmsBoJUwQyPWvEWIxVadPEplZ+q6HAB0AIKwlc5WVH1b8MSOw4nydGfj0EEGdGGYjR1rznxE08ThfXRJsa7LAaCjQRC2hrqDDBvHI73czdnQQQZ0ebibBzNwBpLLiP276NoaXZcDQIeCIGwxEUkGpqTXqshfXJ1ehw4yoLtgvD6IMfpNuraGOLgHKRW6LgeAjgNB2DI0QvPTs1Il0mU2VmFWFq8+AICug/nmRIbfALroCRFxAFGUrssBoINAELbMhvwnkeWVgw31f3R21HUtALQ3DGMGheCu7lRGqirqhK6rAaCDaDcIlUrljh07Zs2aFRISsm3bNqlU2sye06dPz83t1DPin6us2pD/2IrNPukBHWRAN8VgsOaEYVY2ZNwd8spFXVcDQEfQbhDu2rXrwYMHK1eu/PjjjzMyMrZu3drkbiKRaN++fXK5XKvFtFGmVDY3LYuF46e9hNYcmJsRdF9cLitsKWZkrLr4Bxl/T9fVAKB1WgzC6urqK1euLFq0aMCAAb6+vmFhYXfv3q2qqmq02/79+2fPnn3+/HntVdJ2YpIMTEmvUal2uDoNMIAOMqCbwwwMWWH/3969x0VR7n8A/85ekL3BckcQVlDEFBUBBQTBlcgKSRJNLpnHSwckzS6maZ5T/kxfnlMmloVSaV4QEQXTjkfDl8BGonAOhYpgWSLCS7kod3aXvczvj7F1W8Er7INnvu8/fO08Ozvz2QX3yzwzzzzJYGmpPZSp/7WKdByE+lc/FsILFy4wsxgyiz4+PhRFlZeXm6z2wgsvpKamvvPOO/2X5DHRAAuqLld0di12cV6EF8ggdqCcBvNfWQQAmr076Ot1pOMg1I/uddPtx3Tjxg2pVGppacksDho0SCwWNzc3m6xmb29vb2/f20YaGhrOnTvHPG5ra+Px+jFwb9ZfvZbd2BRsJUkd7mn+vSNECsfTi/9Somb/Hs2ObfzX3qKkNqQTIdQv+rGuKJVKiz/Pc2ZpaalUKh9qIxUVFe+++65hUSAQ9E24B5bX3PJB9TVnC4tsvIMMYh+ObwCvqUmbd0yzY5vF4jfA7P8BETKDfiyEIpFIrf7TsFyNRiORPNx02MOGDVu6dCnzOCsr6/z5832W7wFcUaniL17iABwY7e2KF8ggVuI+/Szd3qY7U6TZ8xV/YQpwuaQTIdTH+rEQ2tratrW1dXd3M8eFGo2mtbXV0fHhZmlwd3efN28e8/jkyZPd3d19H7QXHTrdC+crb2q020cMm2xtZbb9IjTQ8GbMoltb9JUXNAcy+HFzAWefRv9b+vFiGeYyGcMZvvLycoqixo4d23977EM0wMJLly90ds1zdvyrizPpOAgRxeHw4+dRLkP0P/9He3JAX+CN0CPoxyNCqVQaEhKyfft2AFCr1enp6dOmTRMKhQBw9OhRAIiOju6/vT+mjTW1Bxqagqwk20cMI50FoQFg0CD+gmTN55/oTh6nJFbcoFDSgRDqM/07oH7JkiU+Pj4ff/zxF198MWnSpEWLFjHtxcXFxcXF/brrx3GyueVvV2qcLPgHR48cxMG70CEEAEBJrPjzk0Eg1B45pP+lknQchPoMRdM06QwPau7cuXv37v3111+HDx/ef3upVqkn/Le8Vas9Oc4nTIqnBhH6E/2Vy5qvvgAu1yJ5GeUyhHQchPoAHu78iVKvj62oatJotnh5YhVE6G4cj+H8l16G7m7Njm10s+mNohB6EmEhvIMGWFD1a1l7x1wnx8V4gQxCveCM8+M9O51ub9Ps3AbKXu+kj9CTgsCNWgYUDU0fbbp1Sal0sbC4olTvb2gaLxZt98YLZBC6F+6USLq1VXdaodn1JX/Ra0Dilk8I9RVW//rWqNTPnquo7PrjZjcU2PB4R8aMEuAFMgjdDy96Jt3aoq84pzmwlx8/DwcXoicXq7/x51X9eqcKAgANegBLvI8aQg+Cw+HHz+O4D9WXl2mPf0c6DUKPjr2FsEalLmhpNWls1Wr/ddP0tuAIoZ7x+by/JFH2DrqCPN1pBek0CD0i9hbCm1ptz+2antsRQnejRCL+gsWUSKw9mqOvOEc6DkKPgr2F0NPSkt/TWY2RQry/PkIPgbKz589PAi5Pk7lLX1NNOg5CD429hdCax33H3dWkMUxqNc1WSiQPQk8uyk3GfykRtFrtN9vppkbScRB6OOwthADwwVD3v8ncRFwuAHApKt7RIXvUSC5e/IbQw+OMHc+LiqE7OzU70ujODtJxEHoIrB4+waeo//Nwf3+oW41a7WxhgaMmEHoc3MlyuqVZV1Sg/WY7/69LgY9TeKInA371A5eiPCwtsQoi9Ph401/k+IzT11zVHMiAJ+c+xojl8NsfIdR3KIof9wpH5qE/95P2X4dJp0HogWAhRAj1KT6f95e/Ug6Ouh/ydUUFpNMgdH9YCBFCfYwSivgLFlNiifa7XP2FctJxELoPLIQIob5H2drx5ycBn6/Zv1t/9QrpOAjdCxZChFC/oIa48xP+Ajqd9pt0urGBdByEeoWFECHUXzhP+fBiZtNdnZodaXRHO+k4CPUMCyFCqB9xA0O4YVPpWzc1O7dDdzfpOAj1AAshQqh/8Z6fwR0/ga6t0ez7BvR60nEQMsXqO8sghMyBonizE+i2Vn3lBU36VtBp6bZWysGJGz6V4zWSdDiE8IgQIWQGXC7/lYUgFOmvXNbXVNMtzfpfqzRffaH7qZR0MoSwECKEzIK+dQu6Ok0atYcPgkZDJA9CBtg1ihAyB31NT6MJVUrtnq/BwZESiUEkpkRiEIlu/ysUAU4Fg8wCCyFCyCw43B6bdZcuwqWLPTxBUXcqokhEiSQgFlNCEYjElEhEiSUgFFEiMfD5j5VKq9EVntKVldDtbZSjM29KJMdn7GNtED2BsBAihMyBM3wE8Pig/VNHKGUt5ae8CWoV3dZGt7WCsotWKkHZRbe3QVsrreyCri59Q/29JrLg8SmBAIRCSiAEK2tKYgUCISUQgEBIWVlTVlYgEFJiCfQyvYzmQIa+vIwGoADoa1c1e77izU7kBgT27XtHAxwWQoSQOVC2drxnp2u/y73TxOPz5sylpDYAQDkN7vWVWi3d1XmnRv5RMpkWuq0V2lrppkZap7vX7nl8ysqKsrI2LpO0SqkvLwMA4x5Y7dEcrq8/8PC7kUXwh40QMhPuZDk1xF3/3xK6tYVycOSGhFF2Dvd/GY9HWVmDlfV9ThhqNLSyC9rb6LZWuut2mYT2VrqtDZRdtw8uq3+//+5USrqpkXLuvTCj/zlYCBFC5sPxGMbxGNYvm+bzKb41WFlTrm69rqPR0J0d0NlBd3TQXR36ivP68z/3uKl+SYgGKiyECCHW4PMpqQ1IbZiDS4770O7KCtPTlk6DKVs7IukQKTiOECHEUpSdA296jFEDDQIBP+4VHLbBNnhEiBBiL27wZI77UN1P/6HbWjmOzpygEEosIR0KmRsWQoQQq1Gubrx7nFZELIBdowghhFgNCyFCCCFWw0KIEEKI1bAQIoQQYjUshAghhFgNCyFCCCFWw0KIEEKI1Z68cYTp6el2dngDJITQE0Amk8XFxZFOge6HfnKcOnVqxIgRff4JWFpaymQyqVTa51t+ZAKBQCaTWVtbkw5yh1AolMlkVlZWpIPcIRKJZDKZWCwmHeQOiUQik8lEIhHpIHdYWVnJZDKhUEg6yB3W1tYymUwgEJAOcodUKpXJZJaWln2+5YiICNJfnOj+KPoeM14OPAUFBY2NjX27zerq6qysrODg4LCwsL7d8iO7fPnyoUOHwsLCgoODSWe5rbKy8siRIxEREQEBAaSz3Hb+/Pljx45NmzbN19eXdJbbysrK8vLyoqKifHx8SGe5raSkJD8/PyYmxtvbm3SW23788ceioqLZs2d7enqSznKbQqEoLi6Oj493d3fv2y07OjqGh4f37TZRn3vCukanTJnS59ssKSnJysp66qmnZs+e3ecbfzQKheLQoUM+Pj4DJ9L3339/5MiRcePGDZxIlpaWx44d8/Pzi42NJZ3ljry8vIkTJ0ZFRZEOcptKpcrPzw8ODo6IiCCd5baWlpaioqLQ0NCQkBDSWW5raGgoLi4ODw8fOH/nIXPCi2UQQgixGhZChBBCrPaEnSNECCGE+hYeESKEEGI1LIQIIYRYDQshQgghVnvChk/0B5VKNXfuXD6fv3v3bh6P8AeSmJjY3t7OPKYoys7OLioqiuzwgNbW1v379589e7a5uVksFo8fP/7ll192dHQklWfZsmVXrlxhHnO5XAcHh4iIiNjYWII/u9WrV1+4cMGkUSKRZGRkEMnD6DFVTEzMggULiOQBALVanZOTo1Ao6uvrRSKRt7f3jBkzxowZQyrP4sWLx4wZk5KSYtwYFxc3Y8aM+Ph4UqmQ+WEhhNOnT2u1WrVaXVZWNnHiRNJx4LnnnouMjAQAtVpdVFS0a9cuJyen0NBQImFu3ry5cuVKAIiNjR08eHBTU9PRo0dXrFiRmppK8F48AQEBL774IgBoNJqLFy9mZ2f//vvvq1atIpUHAHx8fF544QXjFj6fTyqMwciRI2fOnGnc4uLiQiqMWq1+77336urqZsyY4eHh0dbWplAo1qxZs2LFioEzoBCxExZCyM/PnzhxYnV1tUKhGAiF0NbWdvjw4czj0aNHl5WVlZaWkiqEaWlpALB582aJRMK0hIaGLlmyZN++fSZ/R5uTjY2N4TDCz8/P3d39448/LikpIfjjs7e3DwoKIrX33tja2g6cVBkZGbW1tZs2bXJ1dWVann766Y0bN3799deTJk2iKIpsPMRmbD9H2NzcfP78+eDg4IkTJ5aUlKjVatKJTFlYWFhYWBDZdXNzc2lp6cyZMw1VEACEQuGbb75JsDvrbqGhofb29gqFgnQQ1CutVnv8+PHp06cbqiAAUBS1YMGCxMREjUZDMBtCbD8iLCws5HA4EydOtLOz+/bbb0tKSiZPnkw61G1arbagoKCuri45OZlIgN9++42m6VGjRpm0D6gqCAAcDsfT07OmpoZgBpqmdTqdcQuHwyF+lEPTdHd3t2GRw+GQOpNaXV2tUqnu/s1xcnJycnIiEomh0+lUKhXBAGggYHshLCgo8PX1FQqFo0aNkkgkhYWFxAvhvn37MjMzAUCv1wNAYGCgoafUzJRKJQAMqOkdeiOVSuvq6ggGKCwsLCwsNG6ZP38+cyKToOLi4lmzZhkWXV1dmb5u82trawMAQ9dCaWnpunXrDM+uXLmS1GnCvLy8vLw8IrtGAwerC+G1a9d+//336dOnAwCXy/X39y8qKuro6CD71R8VFTVt2jQA0Ol0N27c2LNnz4cffmj8rWE2zHRCLS0t9vb2xu1KpbKjo8PBwcH8kXrT2dlJdtYqf3//xMRE4xaTD42IMWPGvPLKK4ZFUn3sAMDMcNTS0sIsjh49OjU1FQC0Wu3y5ctJpQKAwMBAk79XPvjgA0JZEDGsLoT5+fkAsHXr1q1bt8IfUzMWFxczF22SwszWxjz29PTkcrnr169vbGw0f+FhZsmpqqoyOSTduXNnVVXVp59+auY8vaFp+tKlS2SnrJJIJKQO3O9BIpEMkNmX3N3dKYr65Zdf/Pz8AEAoFDK/XYaRMKTY2NiYdP5zOGy/coKF2FsIaZpWKBQBAQHz5s0zNK5du1ahUJAthCaY/kkiZ5ukUun48eNzcnLkcrlhstn6+vqCggLjDjfiCgoKmpqacNa3gUwsFgcEBPz73/+Ojo42nrg4JyeHYCqEGOwthBUVFQ0NDa+99prh8AsA5HL5wYMHm5ubbWxsSAVramq6ePEiAOh0upqamszMTH9/f1L9bElJSe+8885bb70VHR3t6Oh4/fr13NzcIUOGmIxOM7OWlhbmI1KpVFVVVTk5Oc8888yIESMIRmpubi4vLzdpHDt2LPHrZQaOV1999e23316+fHlMTMzgwYNv3rz5/fffd3R0kO3TRgjYXAgLCwudnZ1NJjePiIjIzs4uKiqKjo4mFezEiRMnTpwAAIqipFJpSEiI8TGrmbm4uGzevDkjIyMrK6ujo8Pe3n7KlClz5swhewue0tLS0tJSAOByuU5OTvHx8WQLMwCUl5ffXQgPHjxI8LTcQOPs7JyampqZmblv37729nZbW9vAwMCEhIRPPvmEdDTEdjgNE0IIIVbD08IIIYRYDQshQgghVsNCiBBCiNWwECKEEGI1LIQIIYRYDQshQgghVsNCiBBCiNWwECLzWbRoEUVR1dXVxo11dXUjRoygKGrDhg39t+vhw4fHxMT03/Z74+vra3LTBoTQQMPeO8uggaC2tlYul1++fDk1NXXZsmWk4/Q9Dw8P0hEQQveBhRARU1NTI5fLq6ur09PTX331VdJxeqBSqZj5gx5Zbm5uX4VBCPUT7BpFZFy9ejU8PPzq1au7d+82qYI//PBDZGSklZWVSCQKCws7duwY015bW0v15PDhw8wKOTk5kydPtra2lkqlEyZMSEtL6/EOgnq9PiEhgcPhbN++/e5ng4KCpkyZcvr0aX9//5EjRzKNlZWVs2bNsrW1FYlEoaGhhw4dMn7J4cOHfX19LS0tvb29t23b9u677xqmtDTpGu3trTFrPvvss8ePHw8ODhYIBHZ2dgsXLuzo6HjYDxYh9LDwiBARcOXKFblcfv369QMHDpjcL/vo0aMzZ8708vJasWIFRVHZ2dlRUVFpaWnJyclSqfSjjz4yrNne3r5+/Xoej8fMO5GVlRUXFxcSErJ27VqKonJzc1NSUlQq1Ztvvmm8fZqmFyxYkJmZ+dlnnyUlJfUYr7q6OjIyMjIy8qWXXgKAn3/+OTw8XCQSJScnW1tbHzlyZNasWf/4xz9WrFgBAJmZmYmJiT4+Pu+9915DQ8Py5ct7m07hHm+NWaGkpCQhIWH16tVr1qw5cuRIenq6WCzesmXLo3/QCKEHQSNkLgsXLgSAkydPurm5AUBISIherzdeQa1WDx482MPDo7293dDi7+8vEolu3bplsrXY2FgA+PLLL5nF6OhoFxcXjUbDLGo0GgcHh+eee45ZHDZs2IwZM/R6PXP0+cknn/QWMjAwEAA+/fRTQ8uECRNcXV0bGxuZRZ1ON3XqVEtLy5aWFpVKZW9v7+Pj09XVxTx75swZiqJEIhGzOG7cuHHjxj3IWxs3bhwAnDp1yrDfMWPGuLm5PdAnixB6DNg1iswtNjb21q1bvr6+P/744+bNm42fUigU169fT0lJMXQtWlhYJCUldXZ25ufnG6/5z3/+89ChQwsXLly0aBHTkpqaWlRUZJgfqr6+vru7u7u72/hVS5cu/fLLL9esWWNymGhCLBanpKQwjy9dulRaWhoXF2dpadnR0dHR0dHV1ZWQkKBSqc6cOfPDDz80NTUlJSUJBAJm/cDAQLlcfvc2H+StyWQy49eOGjXqxo0b98iJEOoT2DWKzI3D4Zw8edLV1XXs2LGrVq2Sy+Xjx49nnqqqqgIAwyLDy8sLAOrq6gwt+fn5q1evDggI+Pzzzw2NHh4e2dnZ77//fmVl5dWrVxsbG00mxT1+/LharQaAioqKeyd0dXXlcrnM48rKSgDYtGnTpk2bTFarr6/v7OwEgNGjRxu3e3t7nz171mTlB3lrdnZ2xs/yeDyNRnPvqAihx4eFEJnbt99+GxQUBABpaWnx8fFxcXFlZWUikQgAmAM4kws1mWJjmOG2trZ2zpw5Uqn04MGDgwYNMqw2d+7cjIyMCRMmhIWFeXl5BQUFmQwcVKvVGzZsqKqq2r1799GjRx9w7mWmFL3xxhtMT6wxLy+vrKws42wMDqeHjpYHeWs4nT1CRGAhRObGnCAEgLi4uO+++y4jI2Pp0qU7duwAAHd3dwC4ePFiSEiIYf2ffvoJAEaNGgUA3d3ds2bNunnz5vHjx2UymWGd3377LSMjIzY29uDBg4ZGpVJpvN9p06atWrXqxo0bhw8fXrJkydSpU5nqe2/MXjQaTWhoqKHx3Llzp06d8vLycnR0BICamhrjwOfOnbt7O/d9awghUvAcISLp888/l8lkO3fu3L9/PwBEREQIhcLPPvusq6uLWUGpVO7cudPNzW3SpEkAsGzZsrNnz65bty4yMtJ4O83NzQDAXG/CyMvLa2hoMF6HORpzdnb++9//XlNTs3bt2gdJ6Ofn5+bmtm/fPsPWlEplUlLShg0brKysQkNDORzOzp076T/GaZw5c6aoqOju7dz3rSGESMEjQkSStbX1nj17pkyZkpycHBQUNHTo0I0bN77++uuBgYGxsbFCoTAjI6O6ujo3N5fL5R44cGDbtm02NjYURW3cuNGwkbCwMH9/f09Pzy1btjg6Ojo7OxcUFOzdu9fFxaW6urqwsDA8PNx4p6+x1zodAAABvklEQVS//vrXX3+9efPml19+eezYsfdOyOPx0tLSYmJiJkyYkJCQYGFhkZ2dXVVVlZubKxAIhgwZkpKSsnXr1ujo6JiYmNraWibD3eP/bGxs7vHW+urzRAg9CtKXrSIWYYZPXLlyxaR91apVABAcHMwMfsjMzPTz8xs0aJBEIpHL5Xl5ecxqK1eu7PF3eN26dTRNV1VVPfPMM2Kx2N7efs6cOZWVlbt27RKLxXK5nP5j+IRhj3l5ecweTcZv0DQdGBjo7e1t0qhQKORyuUAgsLa2Dg8PP3HihOEpnU730UcfeXp68vl8Dw+PLVu2zJ8/39HRkXnWMHyC0dtbY9b09/c33mliYiL+D0XIDCi6p1tvIIQe2fPPP19bW9vjmUKE0ACE5wgRenSdnZ3Ozs6GQYcAUF9fX1RUNHXqVIKpEEIPBc8RIvToRCKRXC5PT0+naTowMLCpqWnbtm08Hu/tt98mHQ0h9KCwaxShx6JUKjds2LB///5r164xZxDXr1/PjJRHCD0RsBAihBBiNTxHiBBCiNWwECKEEGI1LIQIIYRYDQshQgghVsNCiBBCiNWwECKEEGI1LIQIIYRY7f8BHoUgKOCaEugAAAAASUVORK5CYII=",
      "text/plain": [
       "plot without title"
      ]
     },
     "metadata": {
      "image/png": {
       "height": 180,
       "width": 300
      }
     },
     "output_type": "display_data"
    }
   ],
   "source": [
    "options(repr.plot.width = 5, repr.plot.height = 3)\n",
    "\n",
    "data %>% \n",
    "  group_by(strain) %>%\n",
    "  summarize(mean_yfp = mean(yfp), mean_rfp = mean(rfp)) %>%\n",
    "  mutate(mean_ratio = mean_yfp / mean_rfp) %>%\n",
    "  left_join(annotations, by = \"strain\") %>%\n",
    "  ggplot(aes(x = kozak_region, y = mean_ratio, \n",
    "             color = insert_sequence, group = insert_sequence)) +\n",
    "  geom_line() + \n",
    "  geom_point() +\n",
    "  theme_classic() +\n",
    "  labs(x = \"Kozak region\", y = \"Mean YFP / RFP ratio\", color = \"Insert\")"
   ]
  },
  {
   "cell_type": "markdown",
   "metadata": {},
   "source": [
    "## Re-shape data using `pivot_longer` and `pivot_wider`"
   ]
  },
  {
   "cell_type": "code",
   "execution_count": 38,
   "metadata": {
    "vscode": {
     "languageId": "r"
    }
   },
   "outputs": [
    {
     "name": "stderr",
     "output_type": "stream",
     "text": [
      "\n",
      "\u001b[36m──\u001b[39m \u001b[1m\u001b[1mColumn specification\u001b[1m\u001b[22m \u001b[36m────────────────────────────────────────────────────────\u001b[39m\n",
      "cols(\n",
      "  strain = \u001b[31mcol_character()\u001b[39m,\n",
      "  yfp = \u001b[32mcol_double()\u001b[39m,\n",
      "  rfp = \u001b[32mcol_double()\u001b[39m,\n",
      "  replicate = \u001b[32mcol_double()\u001b[39m\n",
      ")\n",
      "\n",
      "\n"
     ]
    },
    {
     "name": "stdout",
     "output_type": "stream",
     "text": [
      "\u001b[90m# A tibble: 74 x 4\u001b[39m\n",
      "   strain    yfp   rfp replicate\n",
      "   \u001b[3m\u001b[90m<chr>\u001b[39m\u001b[23m   \u001b[3m\u001b[90m<dbl>\u001b[39m\u001b[23m \u001b[3m\u001b[90m<dbl>\u001b[39m\u001b[23m     \u001b[3m\u001b[90m<dbl>\u001b[39m\u001b[23m\n",
      "\u001b[90m 1\u001b[39m schp677  \u001b[4m4\u001b[24m123 \u001b[4m2\u001b[24m\u001b[4m0\u001b[24m661         1\n",
      "\u001b[90m 2\u001b[39m schp678  \u001b[4m4\u001b[24m550 \u001b[4m2\u001b[24m\u001b[4m1\u001b[24m437         1\n",
      "\u001b[90m 3\u001b[39m schp675  \u001b[4m3\u001b[24m880 \u001b[4m2\u001b[24m\u001b[4m1\u001b[24m323         1\n",
      "\u001b[90m 4\u001b[39m schp676  \u001b[4m2\u001b[24m863 \u001b[4m2\u001b[24m\u001b[4m0\u001b[24m668         1\n",
      "\u001b[90m 5\u001b[39m schp687  \u001b[4m4\u001b[24m767 \u001b[4m2\u001b[24m\u001b[4m0\u001b[24m995         1\n",
      "\u001b[90m 6\u001b[39m schp688  \u001b[4m1\u001b[24m274 \u001b[4m2\u001b[24m\u001b[4m0\u001b[24m927         1\n",
      "\u001b[90m 7\u001b[39m schp679  \u001b[4m2\u001b[24m605 \u001b[4m2\u001b[24m\u001b[4m0\u001b[24m840         1\n",
      "\u001b[90m 8\u001b[39m schp680  \u001b[4m1\u001b[24m175 \u001b[4m2\u001b[24m\u001b[4m0\u001b[24m902         1\n",
      "\u001b[90m 9\u001b[39m schp681  \u001b[4m3\u001b[24m861 \u001b[4m2\u001b[24m\u001b[4m0\u001b[24m659         1\n",
      "\u001b[90m10\u001b[39m schp683  \u001b[4m9\u001b[24m949 \u001b[4m2\u001b[24m\u001b[4m5\u001b[24m406         1\n",
      "\u001b[90m# … with 64 more rows\u001b[39m\n"
     ]
    }
   ],
   "source": [
    "data <- read_tsv(\"data/example_dataset_4.tsv\") %>% \n",
    "  print()"
   ]
  },
  {
   "cell_type": "markdown",
   "metadata": {},
   "source": [
    "How do you plot a histogram of both `yfp` and `rfp` as separate panels?"
   ]
  },
  {
   "cell_type": "code",
   "execution_count": null,
   "metadata": {
    "vscode": {
     "languageId": "r"
    }
   },
   "outputs": [],
   "source": [
    "data %>%\n",
    "  pivot_longer(c(\"yfp\", \"rfp\"), names_to = \"channel\", values_to = \"value\") %>%\n",
    "  print()"
   ]
  },
  {
   "cell_type": "code",
   "execution_count": null,
   "metadata": {
    "vscode": {
     "languageId": "r"
    }
   },
   "outputs": [],
   "source": [
    "data %>%\n",
    "  pivot_longer(c(\"yfp\", \"rfp\"), names_to = \"channel\", values_to = \"value\") %>%\n",
    "  pivot_wider(names_from = \"channel\", values_from = \"value\") %>%\n",
    "  print()"
   ]
  },
  {
   "cell_type": "markdown",
   "metadata": {},
   "source": [
    "`pivot_longer` is useful for handling distinct measurements without listing them explicitly."
   ]
  },
  {
   "cell_type": "code",
   "execution_count": 27,
   "metadata": {
    "vscode": {
     "languageId": "r"
    }
   },
   "outputs": [
    {
     "data": {
      "image/png": "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",
      "text/plain": [
       "plot without title"
      ]
     },
     "metadata": {
      "image/png": {
       "height": 180,
       "width": 300
      }
     },
     "output_type": "display_data"
    }
   ],
   "source": [
    "plot_data <- data %>%\n",
    "  pivot_longer(c(\"yfp\", \"rfp\"), names_to = \"channel\", values_to = \"value\")\n",
    "\n",
    "plot_data %>%\n",
    "  ggplot(aes(x = value)) +\n",
    "  facet_wrap(~ channel) +\n",
    "  geom_histogram(bins = 30) +\n",
    "  theme_bw()\n"
   ]
  },
  {
   "cell_type": "markdown",
   "metadata": {},
   "source": [
    "## Use `purrr::map` and `purrr::unnest` to read and work with tables from many files\n",
    "\n",
    "We use `list.files` and `enframe` to go from a list of files to a `tibble` quickly. Also check out `deframe`."
   ]
  },
  {
   "cell_type": "code",
   "execution_count": null,
   "metadata": {
    "vscode": {
     "languageId": "r"
    }
   },
   "outputs": [],
   "source": [
    "data <- list.files(\"data/channel_data/\", full.names = T) %>%\n",
    "  enframe(\"number\", \"file\") %>%\n",
    "  mutate(data = map(file, read_tsv)) %>%\n",
    "  unnest(data) %>%\n",
    "  mutate(channel = str_extract(file, \"[^/]+(?=.tsv)\")) %>%\n",
    "  select(-number, -file) %>%\n",
    "  print()"
   ]
  },
  {
   "cell_type": "markdown",
   "metadata": {},
   "source": [
    "# In-class exercises\n",
    "\n",
    "(20 min)"
   ]
  },
  {
   "cell_type": "markdown",
   "metadata": {},
   "source": [
    "## 1. Re-shape data read above from two separate files to create columns for `yfp` and `rfp`"
   ]
  },
  {
   "cell_type": "markdown",
   "metadata": {},
   "source": [
    "## 2. Calculate ratio of YFP to RFP"
   ]
  },
  {
   "cell_type": "markdown",
   "metadata": {},
   "source": [
    "## 3. Calculate the `mean` and `standard error` of the ratio between replicates"
   ]
  },
  {
   "cell_type": "markdown",
   "metadata": {},
   "source": [
    "## 4. Combine data with annotations"
   ]
  },
  {
   "cell_type": "markdown",
   "metadata": {},
   "source": [
    "## 5. Plot the mean and standard deviation of the YFP-RFP ratio as a function of the Kozak region.\n",
    "\n",
    "Hint: You have to use `geom_errorbar()` in addition to `geom_point()` and `geom_line()`."
   ]
  }
 ],
 "metadata": {
  "kernelspec": {
   "display_name": "R",
   "language": "R",
   "name": "ir"
  },
  "language_info": {
   "codemirror_mode": "r",
   "file_extension": ".r",
   "mimetype": "text/x-r-source",
   "name": "R",
   "pygments_lexer": "r",
   "version": "4.1.3"
  },
  "orig_nbformat": 4
 },
 "nbformat": 4,
 "nbformat_minor": 2
}
