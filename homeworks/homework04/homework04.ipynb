{
 "cells": [
  {
   "cell_type": "markdown",
   "metadata": {},
   "source": [
    "# Homework 4: Practical analysis with BioPython"
   ]
  },
  {
   "cell_type": "markdown",
   "metadata": {},
   "source": [
    "For the homework, you are going to extend the code from the analysis of our FASTQ file in lectures 8 and 9.\n",
    "Recall that the FASTQ file contains reads from a real sequencing run of influenza virus HA and NA genes.\n",
    "\n",
    "The _actual sequences_ are as follows:\n",
    "\n",
    "    5'-[end of HA]-AGGCGGCCGC-[16 X N barcode]-3'\n",
    "    \n",
    "or \n",
    "\n",
    "    5'-[end of NA]-AGGCGGCCGC-[16 X N barcode]-3'\n",
    "    \n",
    "The end of NA is:\n",
    "\n",
    "    ...CACGATAGATAAATAATAGTGCACCAT\n",
    "    \n",
    "The end of HA is:\n",
    "\n",
    "    ...CCGGATTTGCATATAATGATGCACCAT\n",
    "    \n",
    "The _sequencing reads_ (located in the FASTQ file) are from the reverse end of these actual sequences, so the first thing in the sequencing reads is the reverse complement of the barcode followed by the reverse complement of the constant sequence, etc.\n",
    "The reads can originate from **either** HA or NA, and that will be distinguished by the most 3' end of the read.\n",
    "But in our example exercise in class, we did not distinguish among reads matching to HA and NA, as we didn't even look far enough into the read to tell the identity.\n",
    "\n",
    "For the homework, your goal is to write code that extends the material from lectures 8 and 9 to also distinguish between HA and NA.\n",
    "This homework can be completed almost entirely by re-using code from lecture 9. You will need to set up your analysis to do the following:\n",
    " 1. Get the reverse complement of each read.\n",
    " 2. Determine if it matches the expected pattern for HA and NA, and if so which one.\n",
    " 3. If it matches, extract the barcode and add it to a dictionary to keep track of counts.\n",
    " 4. Determine the number and distribution of barcodes for HA and NA separately.\n",
    "\n",
    "Please include code to address each of the following questions. Please include code comments to explain what your code is attempting to accomplish. Don't forget to include references to the sources you used to obtain your answer, including your classmates (if you are working in groups).  "
   ]
  },
  {
   "cell_type": "markdown",
   "metadata": {},
   "source": [
    "1. How many reads map to HA, and how many reads map to NA?"
   ]
  },
  {
   "cell_type": "code",
   "execution_count": 119,
   "metadata": {},
   "outputs": [],
   "source": [
    "import re\n",
    "import Bio.SeqIO\n",
    "\n",
    "#convert the sequecning reads into strings \n",
    "seqreads_str = []\n",
    "for seqrecord in seqreads:\n",
    "    sequence = str(seqrecord.seq) # convert sequence part to string\n",
    "    seqreads_str.append(sequence) # add string sequence to list"
   ]
  },
  {
   "cell_type": "code",
   "execution_count": 92,
   "metadata": {},
   "outputs": [],
   "source": [
    "def reverse_complement(seq, unk_partner = 'N'):\n",
    "    \"\"\"Get reverse complement of a DNA sequence.\n",
    "    \n",
    "    Parameters\n",
    "    -----------\n",
    "    seq : str\n",
    "`        Uppercase DNA sequence.\n",
    "    Returns\n",
    "    -------\n",
    "    str\n",
    "        Reverse complement of the sequence in upper case.\n",
    "        \n",
    "    Example\n",
    "    --------\n",
    "    >>> reverse_complement('ATGCAC')\n",
    "    'GTGCAT'\n",
    "    \n",
    "    \"\"\"\n",
    "    base_partner = {'A':'T', 'T':'A', 'C':'G', 'G':'C'}\n",
    "    rseq = ''\n",
    "    for a in seq:\n",
    "        if a in base_partner:\n",
    "            # look up the complementary base in the dictionary\n",
    "            pair = base_partner[a]\n",
    "            rseq = pair + rseq\n",
    "        else:\n",
    "            rseq = unk_partner + rseq\n",
    "    return rseq"
   ]
  },
  {
   "cell_type": "code",
   "execution_count": 164,
   "metadata": {},
   "outputs": [
    {
     "data": {
      "text/plain": [
       "'TCTGCTATTCCGTGTCAATAAACATCGTCGTTGCATGCCTTCATTTTAGTGCTGCGTTTACAAAACTGGTTTCAAAATTATTAATTTCAGCTTTTTTTTTTTTTTCAAGCAGAAGACGGCATACGAGATTCTGACATGTGACTGGAGTTCAGACGTGTGCTCTTCCGATCTTGGCCTGATGGAGCAGAACTCCCTTTCACGATAGATAAATAATAGTGCACCATAGGCGGCCGCACTAAATAACTTAAGC TCGTACACTCTGTCATTAGGGATGTATTTGTTTAATGCATGGGGTTGTATACTAAGCTGTTGATGGTGTCTTTATGATACCTATTTAGGTTTTTTTTTTTTTTTTCAAGCAGAAGACGGCATACGAGATTCTGACATGTGACTGGAGTTCAGACGTGTGCTCTTCCGATCTATGTGTTCCAACGGCTCCTTGCAATGCCGGATTTGCATATAATGATGCACCATAGGCGGCCGCAACCGTGACCAGGAAG TCGTAGTGTATAGTAGAAGGGACGTCTACGTTAATCAGTGTCATAAGTTCGATCATTGGCTTCAATACCTAGTGGGAGTTAGATTTTGTATGTTAGTTTTTTTTTTCAAGCAGAAGACGGCATACGAGATTCTGACATGTGACTGGAGTTCAGACGTGTGCTCTTCCGATCTTGGCCTGATGGAGCAGAACTCCCTTTCACGATAGATAAATAATAGTGCACCATAGGCGGCCGCGGGGTAATAGCCGTG'"
      ]
     },
     "execution_count": 164,
     "metadata": {},
     "output_type": "execute_result"
    }
   ],
   "source": [
    "#placing the reverse compliment into a list \n",
    "rev = [ ]\n",
    "\n",
    "for seq in seqreads_str:\n",
    "    reverse_complement(seq)\n",
    "    rev.append(reverse_complement(seq))\n",
    "\n",
    "\n",
    "' '.join(rev[:3])"
   ]
  },
  {
   "cell_type": "code",
   "execution_count": 127,
   "metadata": {},
   "outputs": [],
   "source": [
    "def read_viral_genes(seqs, upstream = 'AGGCGGCCGC', bclen = 16):\n",
    "\n",
    "    #compile the search pattern\n",
    "    viral_gene_pattern = re.compile('(?P<gene>[ATCG]{27})' + upstream + \"(?P<barcode>[ATCGN]{\" + str(bclen) + \"})\")\n",
    "\n",
    "    #viral reads\n",
    "    HA = 'CCGGATTTGCATATAATGATGCACCAT'\n",
    "    NA = 'CACGATAGATAAATAATAGTGCACCAT'\n",
    "\n",
    "    #empty dictionary to count number of viral genes \n",
    "    gene_count = {'HA_count': 0, 'NA_count': 0, 'neither': 0}\n",
    "\n",
    "    #loop to search and count the number of HA and NA\n",
    "    for seq in seqs:\n",
    "        match = viral_gene_pattern.search(seq)\n",
    "\n",
    "        if match:\n",
    "            gene = match.group(\"gene\")\n",
    "            if gene == HA:\n",
    "                gene_count['HA_count'] += 1 #counts number of HA\n",
    "            elif gene == NA:\n",
    "                gene_count['NA_count'] += 1 #counts number of NA\n",
    "            else:\n",
    "                gene_count['neither'] += 1 #counts neither \n",
    "    return gene_count "
   ]
  },
  {
   "cell_type": "code",
   "execution_count": 128,
   "metadata": {},
   "outputs": [
    {
     "data": {
      "text/plain": [
       "{'HA_count': 5250, 'NA_count': 3912, 'neither': 248}"
      ]
     },
     "execution_count": 128,
     "metadata": {},
     "output_type": "execute_result"
    }
   ],
   "source": [
    "read_viral_genes(rev)"
   ]
  },
  {
   "cell_type": "markdown",
   "metadata": {},
   "source": [
    "2. What is the HA barcode with the most counts (and how many counts)? Also answer the same question for NA.\n",
    "\n",
    "    _Hint: you will need to find the key associated with the maximum value in your dictionary. There are many ways to do this._"
   ]
  },
  {
   "cell_type": "code",
   "execution_count": 161,
   "metadata": {},
   "outputs": [],
   "source": [
    "#Define a function that \"Identify barcode with known upstream sequence\"\n",
    "def read_barcode(seqs, bclen=16, downstream='AGGCGGCCGC'):\n",
    "    \"\"\"Identify barcode with known upstream sequence.\n",
    "    \n",
    "    Parameters\n",
    "    ----------\n",
    "    seqread : str\n",
    "        Nucleotide sequence matching UPSTREAM-BARCODE read in reverse orientation.\n",
    "    bclen : int\n",
    "        Length of barcode\n",
    "    upstream: str\n",
    "        Sequence upstream of the barcode.\n",
    "    \"\"\"\n",
    "    # compiling the reguar expression to run within the function read_barcode\n",
    "    # We want sequence that starts with a a string of any ATCGs that is 27bp long, followed by the downstream constant sequence, followed by any barcode \n",
    "    #that is made of ATCGNs and has a length of 16 right at the end of the sequence\n",
    "    barcode_re = re.compile(\"(?P<gene>[ATCG]{27})\" + downstream + \"(?P<barcode>[ATCG]{\" + str(bclen) + \"})\")\n",
    "    \n",
    "    #find the sequences that match the re\n",
    "    match = barcode_re.search(seq)\n",
    "    \n",
    "    #return the sequences that match the patterm as \"barcode, gene\"\n",
    "    if match:\n",
    "        barcode = match.group('barcode')\n",
    "        gene = match.group('gene')\n",
    "        return barcode, gene\n",
    "    else:\n",
    "        barcode = \"not_match\"\n",
    "        gene = \"not_match\"\n",
    "        return barcode, gene"
   ]
  },
  {
   "cell_type": "code",
   "execution_count": 162,
   "metadata": {},
   "outputs": [],
   "source": [
    "#define the HA and NA specific sequences\n",
    "NA = 'CACGATAGATAAATAATAGTGCACCAT'\n",
    "HA = 'CCGGATTTGCATATAATGATGCACCAT'\n",
    "\n",
    "#Set up empty barcode_count dictionaries\n",
    "barcode_counts_HA = {}\n",
    "barcode_counts_NA = {}\n",
    "\n",
    "#make a for loop to read each sequece in the list and \n",
    "#1. decide if it matches the barcode regex and return the matches as \"barcode, prot\" \n",
    "#2 assign the sequence as belonging to HA or NA \n",
    "#3 count them up in a dictionary\n",
    "for seq in rev:\n",
    "    barcode, gene = read_barcode(seq, bclen = 16)\n",
    "\n",
    "    if gene == NA:\n",
    "        if barcode in barcode_counts_NA:\n",
    "            barcode_counts_NA[barcode] += 1\n",
    "        else:\n",
    "            barcode_counts_NA[barcode] = 1\n",
    "    elif gene == HA:\n",
    "        if barcode in barcode_counts_HA:\n",
    "            barcode_counts_HA[barcode] += 1\n",
    "        else:\n",
    "            barcode_counts_HA[barcode] = 1"
   ]
  },
  {
   "cell_type": "code",
   "execution_count": 163,
   "metadata": {},
   "outputs": [
    {
     "name": "stdout",
     "output_type": "stream",
     "text": [
      "the NA barcode with the most counts is TTTCTCCCGCATCTCG with 152 counts\n",
      "the HA barcode with the most counts is TTTGTCCCTTGAACCC with 155 counts\n"
     ]
    }
   ],
   "source": [
    "#find the barcode with the most counts for each prot (NA or HA) and print that barcode and the count \n",
    "max_NA_barcode = max(barcode_counts_NA)\n",
    "max_NA_count = max(barcode_counts_NA.values())\n",
    "\n",
    "max_HA_barcode = max(barcode_counts_HA)\n",
    "max_HA_count = max(barcode_counts_HA.values())\n",
    "\n",
    "\n",
    "print(\"the NA barcode with the most counts is\", max_NA_barcode, \"with\", max_NA_count, \"counts\")\n",
    "print(\"the HA barcode with the most counts is\", max_HA_barcode, \"with\", max_HA_count, \"counts\")"
   ]
  }
 ],
 "metadata": {
  "kernelspec": {
   "display_name": "Python 3.9.12 ('base')",
   "language": "python",
   "name": "python3"
  },
  "language_info": {
   "codemirror_mode": {
    "name": "ipython",
    "version": 3
   },
   "file_extension": ".py",
   "mimetype": "text/x-python",
   "name": "python",
   "nbconvert_exporter": "python",
   "pygments_lexer": "ipython3",
   "version": "3.9.12"
  },
  "toc": {
   "nav_menu": {},
   "number_sections": false,
   "sideBar": true,
   "skip_h1_title": false,
   "toc_cell": false,
   "toc_position": {
    "height": "623.8px",
    "left": "0px",
    "right": "829.6px",
    "top": "33.2px",
    "width": "322.4px"
   },
   "toc_section_display": "block",
   "toc_window_display": true
  },
  "vscode": {
   "interpreter": {
    "hash": "d4d1e4263499bec80672ea0156c357c1ee493ec2b1c70f0acce89fc37c4a6abe"
   }
  }
 },
 "nbformat": 4,
 "nbformat_minor": 2
}
